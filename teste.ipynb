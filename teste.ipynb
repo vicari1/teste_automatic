{
 "cells": [
  {
   "cell_type": "code",
   "execution_count": 1,
   "metadata": {},
   "outputs": [
    {
     "name": "stderr",
     "output_type": "stream",
     "text": [
      "C:\\Users\\guilherme.vicari_dot\\AppData\\Local\\Temp\\ipykernel_7152\\1442181265.py:1: DeprecationWarning: \n",
      "Pyarrow will become a required dependency of pandas in the next major release of pandas (pandas 3.0),\n",
      "(to allow more performant data types, such as the Arrow string type, and better interoperability with other libraries)\n",
      "but was not found to be installed on your system.\n",
      "If this would cause problems for you,\n",
      "please provide us feedback at https://github.com/pandas-dev/pandas/issues/54466\n",
      "        \n",
      "  import pandas as pd\n"
     ]
    }
   ],
   "source": [
    "import pandas as pd\n",
    "import numpy as np\n",
    "import numpy_financial as npf\n",
    "import datetime as dt\n",
    "import csv"
   ]
  },
  {
   "cell_type": "code",
   "execution_count": 2,
   "metadata": {},
   "outputs": [],
   "source": [
    "#hoje = dt.datetime.today().strftime('%Y-%m-%d')\n",
    "hoje = '2024-04-08'"
   ]
  },
  {
   "cell_type": "code",
   "execution_count": 3,
   "metadata": {},
   "outputs": [],
   "source": [
    "df_basetotal = pd.read_excel('input_sem_exclusao08042024_teste.xlsx', sheet_name='base_total')\n",
    "df_recuperi = pd.read_excel('Base_camila_0204.xlsx', header=1)\n",
    "df_acaocontrole = pd.read_csv('base_grupo_acao_controle.csv')"
   ]
  },
  {
   "cell_type": "code",
   "execution_count": 4,
   "metadata": {},
   "outputs": [
    {
     "data": {
      "text/plain": [
       "(57483, 63)"
      ]
     },
     "execution_count": 4,
     "metadata": {},
     "output_type": "execute_result"
    }
   ],
   "source": [
    "df_basetotal.shape"
   ]
  },
  {
   "cell_type": "code",
   "execution_count": 5,
   "metadata": {},
   "outputs": [],
   "source": [
    "df_recuperi.rename(columns={'Número do título': 'loan_id'}, inplace=True)\n",
    "df_recuperi['flag_protesto'] = 1"
   ]
  },
  {
   "cell_type": "code",
   "execution_count": 6,
   "metadata": {},
   "outputs": [],
   "source": [
    "df_recuperi = df_recuperi.loc[:,['loan_id','flag_protesto']]"
   ]
  },
  {
   "cell_type": "code",
   "execution_count": 7,
   "metadata": {},
   "outputs": [],
   "source": [
    "df = pd.merge(df_basetotal,df_recuperi, how='left', on='loan_id')"
   ]
  },
  {
   "cell_type": "code",
   "execution_count": 8,
   "metadata": {},
   "outputs": [],
   "source": [
    "##df['flag_protesto'].fillna(0, inplace=True)\n",
    "df.fillna({'flag_protesto': 0}, inplace=True)\n",
    "df['flag_protesto'] = df['flag_protesto'].astype(int)"
   ]
  },
  {
   "cell_type": "code",
   "execution_count": 9,
   "metadata": {},
   "outputs": [
    {
     "data": {
      "text/plain": [
       "flag_protesto\n",
       "0    48498\n",
       "1     8985\n",
       "Name: loan_id, dtype: int64"
      ]
     },
     "execution_count": 9,
     "metadata": {},
     "output_type": "execute_result"
    }
   ],
   "source": [
    "df.groupby('flag_protesto')['loan_id'].count()"
   ]
  },
  {
   "cell_type": "code",
   "execution_count": 10,
   "metadata": {},
   "outputs": [],
   "source": [
    "df['flag_parcela'] = ''\n",
    "df['regiao'] = ''\n",
    "df['custo'] = ''\n",
    "df['grupo_controle'] = ''\n",
    "df['acao_controle'] = ''\n",
    "df['retorno'] = ''"
   ]
  },
  {
   "cell_type": "code",
   "execution_count": 11,
   "metadata": {},
   "outputs": [
    {
     "data": {
      "text/html": [
       "<div>\n",
       "<style scoped>\n",
       "    .dataframe tbody tr th:only-of-type {\n",
       "        vertical-align: middle;\n",
       "    }\n",
       "\n",
       "    .dataframe tbody tr th {\n",
       "        vertical-align: top;\n",
       "    }\n",
       "\n",
       "    .dataframe thead th {\n",
       "        text-align: right;\n",
       "    }\n",
       "</style>\n",
       "<table border=\"1\" class=\"dataframe\">\n",
       "  <thead>\n",
       "    <tr style=\"text-align: right;\">\n",
       "      <th></th>\n",
       "      <th>loan_id</th>\n",
       "      <th>valor_parcela</th>\n",
       "      <th>flag_parcela</th>\n",
       "    </tr>\n",
       "  </thead>\n",
       "  <tbody>\n",
       "    <tr>\n",
       "      <th>0</th>\n",
       "      <td>23488783</td>\n",
       "      <td>179.85</td>\n",
       "      <td></td>\n",
       "    </tr>\n",
       "    <tr>\n",
       "      <th>1</th>\n",
       "      <td>19853726</td>\n",
       "      <td>422.48</td>\n",
       "      <td></td>\n",
       "    </tr>\n",
       "    <tr>\n",
       "      <th>2</th>\n",
       "      <td>23896506</td>\n",
       "      <td>535.04</td>\n",
       "      <td></td>\n",
       "    </tr>\n",
       "    <tr>\n",
       "      <th>3</th>\n",
       "      <td>22407538</td>\n",
       "      <td>133.24</td>\n",
       "      <td></td>\n",
       "    </tr>\n",
       "    <tr>\n",
       "      <th>4</th>\n",
       "      <td>23901789</td>\n",
       "      <td>280.35</td>\n",
       "      <td></td>\n",
       "    </tr>\n",
       "  </tbody>\n",
       "</table>\n",
       "</div>"
      ],
      "text/plain": [
       "    loan_id  valor_parcela flag_parcela\n",
       "0  23488783         179.85             \n",
       "1  19853726         422.48             \n",
       "2  23896506         535.04             \n",
       "3  22407538         133.24             \n",
       "4  23901789         280.35             "
      ]
     },
     "execution_count": 11,
     "metadata": {},
     "output_type": "execute_result"
    }
   ],
   "source": [
    "df[['loan_id','valor_parcela','flag_parcela']].head(5)"
   ]
  },
  {
   "cell_type": "code",
   "execution_count": 12,
   "metadata": {},
   "outputs": [],
   "source": [
    "for indice, linha in df.iterrows():\n",
    "    if linha['valor_parcela'] > 300:\n",
    "        df.at[indice, 'flag_parcela'] = '>300'\n",
    "    else:\n",
    "        df.at[indice, 'flag_parcela'] = '=<300'"
   ]
  },
  {
   "cell_type": "code",
   "execution_count": 13,
   "metadata": {},
   "outputs": [
    {
     "data": {
      "text/html": [
       "<div>\n",
       "<style scoped>\n",
       "    .dataframe tbody tr th:only-of-type {\n",
       "        vertical-align: middle;\n",
       "    }\n",
       "\n",
       "    .dataframe tbody tr th {\n",
       "        vertical-align: top;\n",
       "    }\n",
       "\n",
       "    .dataframe thead th {\n",
       "        text-align: right;\n",
       "    }\n",
       "</style>\n",
       "<table border=\"1\" class=\"dataframe\">\n",
       "  <thead>\n",
       "    <tr style=\"text-align: right;\">\n",
       "      <th></th>\n",
       "      <th>loan_id</th>\n",
       "      <th>valor_parcela</th>\n",
       "      <th>flag_parcela</th>\n",
       "    </tr>\n",
       "  </thead>\n",
       "  <tbody>\n",
       "    <tr>\n",
       "      <th>0</th>\n",
       "      <td>23488783</td>\n",
       "      <td>179.85</td>\n",
       "      <td>=&lt;300</td>\n",
       "    </tr>\n",
       "    <tr>\n",
       "      <th>1</th>\n",
       "      <td>19853726</td>\n",
       "      <td>422.48</td>\n",
       "      <td>&gt;300</td>\n",
       "    </tr>\n",
       "    <tr>\n",
       "      <th>2</th>\n",
       "      <td>23896506</td>\n",
       "      <td>535.04</td>\n",
       "      <td>&gt;300</td>\n",
       "    </tr>\n",
       "    <tr>\n",
       "      <th>3</th>\n",
       "      <td>22407538</td>\n",
       "      <td>133.24</td>\n",
       "      <td>=&lt;300</td>\n",
       "    </tr>\n",
       "    <tr>\n",
       "      <th>4</th>\n",
       "      <td>23901789</td>\n",
       "      <td>280.35</td>\n",
       "      <td>=&lt;300</td>\n",
       "    </tr>\n",
       "  </tbody>\n",
       "</table>\n",
       "</div>"
      ],
      "text/plain": [
       "    loan_id  valor_parcela flag_parcela\n",
       "0  23488783         179.85        =<300\n",
       "1  19853726         422.48         >300\n",
       "2  23896506         535.04         >300\n",
       "3  22407538         133.24        =<300\n",
       "4  23901789         280.35        =<300"
      ]
     },
     "execution_count": 13,
     "metadata": {},
     "output_type": "execute_result"
    }
   ],
   "source": [
    "df[['loan_id','valor_parcela','flag_parcela']].head(5)"
   ]
  },
  {
   "cell_type": "code",
   "execution_count": 14,
   "metadata": {},
   "outputs": [],
   "source": [
    "df['regiao'] = df['address_state']\n",
    "#df['regiao'].fillna('na', inplace=True)\n",
    "df.fillna({'regiao': 0}, inplace=True)"
   ]
  },
  {
   "cell_type": "code",
   "execution_count": 15,
   "metadata": {},
   "outputs": [
    {
     "data": {
      "text/plain": [
       "regiao\n",
       "0        10\n",
       "AC      192\n",
       "AL      353\n",
       "AM      847\n",
       "AP      204\n",
       "BA     1994\n",
       "CE     1073\n",
       "DF     1655\n",
       "ES     1126\n",
       "GO     3068\n",
       "MA      792\n",
       "MG     5246\n",
       "MS     1175\n",
       "MT     1364\n",
       "PA     1895\n",
       "PB      535\n",
       "PE     1051\n",
       "PI      538\n",
       "PR     3694\n",
       "RJ     4141\n",
       "RN      534\n",
       "RO      539\n",
       "RR      166\n",
       "RS     3444\n",
       "SC     2793\n",
       "SE      273\n",
       "SP    18331\n",
       "TO      450\n",
       "Name: loan_id, dtype: int64"
      ]
     },
     "execution_count": 15,
     "metadata": {},
     "output_type": "execute_result"
    }
   ],
   "source": [
    "df.groupby('regiao')['loan_id'].count()"
   ]
  },
  {
   "cell_type": "code",
   "execution_count": 16,
   "metadata": {},
   "outputs": [],
   "source": [
    "for indice, linha in df.iterrows():\n",
    "    if linha['regiao'] == 'SP':\n",
    "        df.at[indice, 'custo'] = 3.19\n",
    "    else:\n",
    "        df.at[indice, 'custo'] = 9.14"
   ]
  },
  {
   "cell_type": "code",
   "execution_count": 17,
   "metadata": {},
   "outputs": [
    {
     "data": {
      "text/html": [
       "<div>\n",
       "<style scoped>\n",
       "    .dataframe tbody tr th:only-of-type {\n",
       "        vertical-align: middle;\n",
       "    }\n",
       "\n",
       "    .dataframe tbody tr th {\n",
       "        vertical-align: top;\n",
       "    }\n",
       "\n",
       "    .dataframe thead th {\n",
       "        text-align: right;\n",
       "    }\n",
       "</style>\n",
       "<table border=\"1\" class=\"dataframe\">\n",
       "  <thead>\n",
       "    <tr style=\"text-align: right;\">\n",
       "      <th></th>\n",
       "      <th>loan_id</th>\n",
       "      <th>valor_parcela</th>\n",
       "      <th>regiao</th>\n",
       "      <th>custo</th>\n",
       "    </tr>\n",
       "  </thead>\n",
       "  <tbody>\n",
       "    <tr>\n",
       "      <th>0</th>\n",
       "      <td>23488783</td>\n",
       "      <td>179.85</td>\n",
       "      <td>SE</td>\n",
       "      <td>9.14</td>\n",
       "    </tr>\n",
       "    <tr>\n",
       "      <th>1</th>\n",
       "      <td>19853726</td>\n",
       "      <td>422.48</td>\n",
       "      <td>SP</td>\n",
       "      <td>3.19</td>\n",
       "    </tr>\n",
       "    <tr>\n",
       "      <th>2</th>\n",
       "      <td>23896506</td>\n",
       "      <td>535.04</td>\n",
       "      <td>PA</td>\n",
       "      <td>9.14</td>\n",
       "    </tr>\n",
       "    <tr>\n",
       "      <th>3</th>\n",
       "      <td>22407538</td>\n",
       "      <td>133.24</td>\n",
       "      <td>CE</td>\n",
       "      <td>9.14</td>\n",
       "    </tr>\n",
       "    <tr>\n",
       "      <th>4</th>\n",
       "      <td>23901789</td>\n",
       "      <td>280.35</td>\n",
       "      <td>RJ</td>\n",
       "      <td>9.14</td>\n",
       "    </tr>\n",
       "  </tbody>\n",
       "</table>\n",
       "</div>"
      ],
      "text/plain": [
       "    loan_id  valor_parcela regiao custo\n",
       "0  23488783         179.85     SE  9.14\n",
       "1  19853726         422.48     SP  3.19\n",
       "2  23896506         535.04     PA  9.14\n",
       "3  22407538         133.24     CE  9.14\n",
       "4  23901789         280.35     RJ  9.14"
      ]
     },
     "execution_count": 17,
     "metadata": {},
     "output_type": "execute_result"
    }
   ],
   "source": [
    "df[['loan_id','valor_parcela','regiao','custo']].head(5)"
   ]
  },
  {
   "cell_type": "code",
   "execution_count": 18,
   "metadata": {},
   "outputs": [
    {
     "data": {
      "text/plain": [
       "(12942, 11)"
      ]
     },
     "execution_count": 18,
     "metadata": {},
     "output_type": "execute_result"
    }
   ],
   "source": [
    "df_acaocontrole.shape"
   ]
  },
  {
   "cell_type": "code",
   "execution_count": 19,
   "metadata": {},
   "outputs": [],
   "source": [
    "df_grupocontrole = df_acaocontrole.query(\"data_retorno > @hoje\")"
   ]
  },
  {
   "cell_type": "code",
   "execution_count": 20,
   "metadata": {},
   "outputs": [
    {
     "data": {
      "text/plain": [
       "(4069, 11)"
      ]
     },
     "execution_count": 20,
     "metadata": {},
     "output_type": "execute_result"
    }
   ],
   "source": [
    "df_grupocontrole.shape"
   ]
  },
  {
   "cell_type": "code",
   "execution_count": 23,
   "metadata": {},
   "outputs": [],
   "source": [
    "df_grupocontrole['data_inicio_protesto'] = pd.to_datetime(df_grupocontrole['data_inicio_protesto'])\n",
    "\n",
    "df_grupocontrole['diferenca_dias'] = (dt.datetime.today() - df_grupocontrole['data_inicio_protesto']).dt.days\n",
    "\n",
    "df_grupocontrole1 = df_grupocontrole.sort_values(by='diferenca_dias', ascending=False)\n",
    "\n",
    "df_grupocontrole1 = df_grupocontrole1.drop_duplicates(subset='loan_id')\n",
    "\n",
    "df_grupocontrole1.drop(columns='diferenca_dias', inplace=True)"
   ]
  },
  {
   "cell_type": "code",
   "execution_count": null,
   "metadata": {},
   "outputs": [],
   "source": [
    "df_grupocontrole1['flag_controle'] = '1'"
   ]
  },
  {
   "cell_type": "code",
   "execution_count": null,
   "metadata": {},
   "outputs": [],
   "source": [
    "df_grupocontrole1 = df_grupocontrole1.loc[:,['loan_id','flag_controle','grupo']]"
   ]
  },
  {
   "cell_type": "code",
   "execution_count": null,
   "metadata": {},
   "outputs": [],
   "source": [
    "df.shape"
   ]
  },
  {
   "cell_type": "code",
   "execution_count": null,
   "metadata": {},
   "outputs": [],
   "source": [
    "df = pd.merge(df,df_grupocontrole1,how='left', on='loan_id')"
   ]
  },
  {
   "cell_type": "code",
   "execution_count": null,
   "metadata": {},
   "outputs": [],
   "source": [
    "df.shape"
   ]
  },
  {
   "cell_type": "code",
   "execution_count": null,
   "metadata": {},
   "outputs": [],
   "source": [
    "#df['flag_controle'].fillna(0, inplace=True)\n",
    "df.fillna({'flag_controle': 0}, inplace=True)\n",
    "df['flag_controle'] = df['flag_controle'].astype(int)"
   ]
  },
  {
   "cell_type": "code",
   "execution_count": null,
   "metadata": {},
   "outputs": [],
   "source": [
    "df.groupby('flag_controle')['loan_id'].count()"
   ]
  },
  {
   "cell_type": "code",
   "execution_count": null,
   "metadata": {},
   "outputs": [],
   "source": [
    "df['grupo_controle'] = df['flag_controle']\n",
    "df['acao_controle'] = df['grupo']"
   ]
  },
  {
   "cell_type": "code",
   "execution_count": null,
   "metadata": {},
   "outputs": [],
   "source": [
    "df = df.drop(['flag_controle','grupo'], axis=1)"
   ]
  },
  {
   "cell_type": "code",
   "execution_count": null,
   "metadata": {},
   "outputs": [],
   "source": [
    "df_retorno = df_acaocontrole.query(\"data_retorno <= @hoje\")"
   ]
  },
  {
   "cell_type": "code",
   "execution_count": null,
   "metadata": {},
   "outputs": [],
   "source": [
    "df.shape"
   ]
  },
  {
   "cell_type": "code",
   "execution_count": null,
   "metadata": {},
   "outputs": [],
   "source": [
    "df_retorno['data_inicio_protesto'] = pd.to_datetime(df_retorno['data_inicio_protesto'])\n",
    "\n",
    "df_retorno['diferenca_dias'] = (dt.datetime.today() - df_retorno['data_inicio_protesto']).dt.days\n",
    "\n",
    "df_retorno = df_retorno.sort_values(by='diferenca_dias', ascending=False)\n",
    "\n",
    "df_retorno = df_retorno.drop_duplicates(subset='loan_id')\n",
    "\n",
    "df_retorno.drop(columns='diferenca_dias', inplace=True)"
   ]
  },
  {
   "cell_type": "code",
   "execution_count": null,
   "metadata": {},
   "outputs": [],
   "source": [
    "df_retorno.shape"
   ]
  },
  {
   "cell_type": "code",
   "execution_count": null,
   "metadata": {},
   "outputs": [],
   "source": [
    "df_retorno = df_retorno.loc[:,['loan_id','data_retorno','semana']]"
   ]
  },
  {
   "cell_type": "code",
   "execution_count": null,
   "metadata": {},
   "outputs": [],
   "source": [
    "df_retorno.head(3)"
   ]
  },
  {
   "cell_type": "code",
   "execution_count": null,
   "metadata": {},
   "outputs": [],
   "source": [
    "df_retorno = df_retorno[df_retorno['data_retorno'] <= hoje]"
   ]
  },
  {
   "cell_type": "code",
   "execution_count": null,
   "metadata": {},
   "outputs": [],
   "source": [
    "df_retorno.shape"
   ]
  },
  {
   "cell_type": "code",
   "execution_count": null,
   "metadata": {},
   "outputs": [],
   "source": [
    "df = pd.merge(df,df_retorno, how='left', on='loan_id')"
   ]
  },
  {
   "cell_type": "code",
   "execution_count": null,
   "metadata": {},
   "outputs": [],
   "source": [
    "df.shape"
   ]
  },
  {
   "cell_type": "code",
   "execution_count": null,
   "metadata": {},
   "outputs": [],
   "source": [
    "df['retorno'] = df['semana']\n",
    "df['retorno'].fillna(0, inplace=True)"
   ]
  },
  {
   "cell_type": "code",
   "execution_count": null,
   "metadata": {},
   "outputs": [],
   "source": [
    "df = df.drop(['data_retorno','semana'], axis=1)"
   ]
  },
  {
   "cell_type": "code",
   "execution_count": null,
   "metadata": {},
   "outputs": [],
   "source": [
    "atraso = ['3 - 60a90', '4 - 90a120', '5 - 120a150']\n",
    "df_final = df[df['late_category_expandida_noverde_atual'].isin(atraso)]"
   ]
  },
  {
   "cell_type": "code",
   "execution_count": null,
   "metadata": {},
   "outputs": [],
   "source": [
    "df_final.shape"
   ]
  },
  {
   "cell_type": "code",
   "execution_count": null,
   "metadata": {},
   "outputs": [],
   "source": [
    "flag_volumetria = df_final.pivot_table(index='late_category_expandida_noverde_atual', \n",
    "                             columns='flag_protesto', \n",
    "                             values='loan_id', \n",
    "                             aggfunc='count', \n",
    "                             margins=True, \n",
    "                             margins_name='Total')\n",
    "\n",
    "print(flag_volumetria)"
   ]
  },
  {
   "cell_type": "code",
   "execution_count": null,
   "metadata": {},
   "outputs": [],
   "source": [
    "acao_controle = df_final.query(\"grupo_controle ==1\")"
   ]
  },
  {
   "cell_type": "code",
   "execution_count": null,
   "metadata": {},
   "outputs": [],
   "source": [
    "flag_acaocontrole = acao_controle.pivot_table(index='late_category_expandida_noverde_atual', \n",
    "                             columns='acao_controle', \n",
    "                             values='loan_id', \n",
    "                             aggfunc='count', \n",
    "                             margins=True, \n",
    "                             margins_name='Total')\n",
    "\n",
    "print(flag_acaocontrole)"
   ]
  },
  {
   "cell_type": "code",
   "execution_count": null,
   "metadata": {},
   "outputs": [],
   "source": [
    "protesto = df_final.query(\"grupo_controle ==0\")"
   ]
  },
  {
   "cell_type": "code",
   "execution_count": null,
   "metadata": {},
   "outputs": [],
   "source": [
    "flag_protesto = protesto.pivot_table(index='late_category_expandida_noverde_atual', \n",
    "                             columns='flag_protesto', \n",
    "                             values='loan_id', \n",
    "                             aggfunc='count', \n",
    "                             margins=True, \n",
    "                             margins_name='Total')\n",
    "\n",
    "print(flag_protesto)"
   ]
  },
  {
   "cell_type": "code",
   "execution_count": null,
   "metadata": {},
   "outputs": [],
   "source": [
    "acordoavencer = df_final.query(\"grupo_controle ==0 & flag_protesto==0\")"
   ]
  },
  {
   "cell_type": "code",
   "execution_count": null,
   "metadata": {},
   "outputs": [],
   "source": [
    "flag_acordo = acordoavencer.pivot_table(index='late_category_expandida_noverde_atual', \n",
    "                             columns='acordo_a_vencer', \n",
    "                             values='loan_id', \n",
    "                             aggfunc='count', \n",
    "                             margins=True, \n",
    "                             margins_name='Total')\n",
    "\n",
    "print(flag_acordo)"
   ]
  },
  {
   "cell_type": "code",
   "execution_count": null,
   "metadata": {},
   "outputs": [],
   "source": [
    "df_final.shape"
   ]
  }
 ],
 "metadata": {
  "kernelspec": {
   "display_name": "Python 3",
   "language": "python",
   "name": "python3"
  },
  "language_info": {
   "codemirror_mode": {
    "name": "ipython",
    "version": 3
   },
   "file_extension": ".py",
   "mimetype": "text/x-python",
   "name": "python",
   "nbconvert_exporter": "python",
   "pygments_lexer": "ipython3",
   "version": "3.12.1"
  }
 },
 "nbformat": 4,
 "nbformat_minor": 2
}
