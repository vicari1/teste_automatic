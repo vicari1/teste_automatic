{
 "cells": [
  {
   "cell_type": "code",
   "execution_count": 4,
   "metadata": {},
   "outputs": [],
   "source": [
    "import pandas as pd\n",
    "import numpy as np\n",
    "import numpy_financial as npf\n",
    "import datetime as dt\n",
    "import csv"
   ]
  },
  {
   "cell_type": "code",
   "execution_count": 29,
   "metadata": {},
   "outputs": [],
   "source": [
    "hoje = dt.datetime.today().strftime('%Y-%m-%d')"
   ]
  },
  {
   "cell_type": "code",
   "execution_count": 6,
   "metadata": {},
   "outputs": [],
   "source": [
    "df_basetotal = pd.read_excel('input_sem_exclusao08042024_teste.xlsx', sheet_name='base_total')\n",
    "df_recuperi = pd.read_excel('Base_camila_0204.xlsx', header=1)\n",
    "df_acaocontrole = pd.read_csv('base_grupo_acao_controle.csv')"
   ]
  },
  {
   "cell_type": "code",
   "execution_count": 7,
   "metadata": {},
   "outputs": [],
   "source": [
    "df_recuperi.rename(columns={'Número do título': 'loan_id'}, inplace=True)\n",
    "df_recuperi['flag_protesto'] = 1"
   ]
  },
  {
   "cell_type": "code",
   "execution_count": 8,
   "metadata": {},
   "outputs": [],
   "source": [
    "df_recuperi = df_recuperi.loc[:,['loan_id','flag_protesto']]"
   ]
  },
  {
   "cell_type": "code",
   "execution_count": 9,
   "metadata": {},
   "outputs": [],
   "source": [
    "df = pd.merge(df_basetotal,df_recuperi, how='left', on='loan_id')"
   ]
  },
  {
   "cell_type": "code",
   "execution_count": 10,
   "metadata": {},
   "outputs": [],
   "source": [
    "df['flag_protesto'].fillna(0, inplace=True)\n",
    "df['flag_protesto'] = df['flag_protesto'].astype(int)"
   ]
  },
  {
   "cell_type": "code",
   "execution_count": 11,
   "metadata": {},
   "outputs": [],
   "source": [
    "df['flag_parcela'] = ''\n",
    "df['regiao'] = ''\n",
    "df['custo'] = ''\n",
    "df['grupo_controle'] = ''\n",
    "df['acao_controle'] = ''\n",
    "df['retorno'] = ''"
   ]
  },
  {
   "cell_type": "code",
   "execution_count": 12,
   "metadata": {},
   "outputs": [
    {
     "data": {
      "text/html": [
       "<div>\n",
       "<style scoped>\n",
       "    .dataframe tbody tr th:only-of-type {\n",
       "        vertical-align: middle;\n",
       "    }\n",
       "\n",
       "    .dataframe tbody tr th {\n",
       "        vertical-align: top;\n",
       "    }\n",
       "\n",
       "    .dataframe thead th {\n",
       "        text-align: right;\n",
       "    }\n",
       "</style>\n",
       "<table border=\"1\" class=\"dataframe\">\n",
       "  <thead>\n",
       "    <tr style=\"text-align: right;\">\n",
       "      <th></th>\n",
       "      <th>loan_id</th>\n",
       "      <th>valor_parcela</th>\n",
       "      <th>flag_parcela</th>\n",
       "    </tr>\n",
       "  </thead>\n",
       "  <tbody>\n",
       "    <tr>\n",
       "      <th>0</th>\n",
       "      <td>23488783</td>\n",
       "      <td>179.85</td>\n",
       "      <td></td>\n",
       "    </tr>\n",
       "    <tr>\n",
       "      <th>1</th>\n",
       "      <td>19853726</td>\n",
       "      <td>422.48</td>\n",
       "      <td></td>\n",
       "    </tr>\n",
       "    <tr>\n",
       "      <th>2</th>\n",
       "      <td>23896506</td>\n",
       "      <td>535.04</td>\n",
       "      <td></td>\n",
       "    </tr>\n",
       "    <tr>\n",
       "      <th>3</th>\n",
       "      <td>22407538</td>\n",
       "      <td>133.24</td>\n",
       "      <td></td>\n",
       "    </tr>\n",
       "    <tr>\n",
       "      <th>4</th>\n",
       "      <td>23901789</td>\n",
       "      <td>280.35</td>\n",
       "      <td></td>\n",
       "    </tr>\n",
       "  </tbody>\n",
       "</table>\n",
       "</div>"
      ],
      "text/plain": [
       "    loan_id  valor_parcela flag_parcela\n",
       "0  23488783         179.85             \n",
       "1  19853726         422.48             \n",
       "2  23896506         535.04             \n",
       "3  22407538         133.24             \n",
       "4  23901789         280.35             "
      ]
     },
     "execution_count": 12,
     "metadata": {},
     "output_type": "execute_result"
    }
   ],
   "source": [
    "df[['loan_id','valor_parcela','flag_parcela']].head(5)"
   ]
  },
  {
   "cell_type": "code",
   "execution_count": 13,
   "metadata": {},
   "outputs": [],
   "source": [
    "for indice, linha in df.iterrows():\n",
    "    if linha['valor_parcela'] > 300:\n",
    "        df.at[indice, 'flag_parcela'] = '>300'\n",
    "    else:\n",
    "        df.at[indice, 'flag_parcela'] = '=<300'"
   ]
  },
  {
   "cell_type": "code",
   "execution_count": 14,
   "metadata": {},
   "outputs": [
    {
     "data": {
      "text/html": [
       "<div>\n",
       "<style scoped>\n",
       "    .dataframe tbody tr th:only-of-type {\n",
       "        vertical-align: middle;\n",
       "    }\n",
       "\n",
       "    .dataframe tbody tr th {\n",
       "        vertical-align: top;\n",
       "    }\n",
       "\n",
       "    .dataframe thead th {\n",
       "        text-align: right;\n",
       "    }\n",
       "</style>\n",
       "<table border=\"1\" class=\"dataframe\">\n",
       "  <thead>\n",
       "    <tr style=\"text-align: right;\">\n",
       "      <th></th>\n",
       "      <th>loan_id</th>\n",
       "      <th>valor_parcela</th>\n",
       "      <th>flag_parcela</th>\n",
       "    </tr>\n",
       "  </thead>\n",
       "  <tbody>\n",
       "    <tr>\n",
       "      <th>0</th>\n",
       "      <td>23488783</td>\n",
       "      <td>179.850000</td>\n",
       "      <td>=&lt;300</td>\n",
       "    </tr>\n",
       "    <tr>\n",
       "      <th>1</th>\n",
       "      <td>19853726</td>\n",
       "      <td>422.480000</td>\n",
       "      <td>&gt;300</td>\n",
       "    </tr>\n",
       "    <tr>\n",
       "      <th>2</th>\n",
       "      <td>23896506</td>\n",
       "      <td>535.040000</td>\n",
       "      <td>&gt;300</td>\n",
       "    </tr>\n",
       "    <tr>\n",
       "      <th>3</th>\n",
       "      <td>22407538</td>\n",
       "      <td>133.240000</td>\n",
       "      <td>=&lt;300</td>\n",
       "    </tr>\n",
       "    <tr>\n",
       "      <th>4</th>\n",
       "      <td>23901789</td>\n",
       "      <td>280.350000</td>\n",
       "      <td>=&lt;300</td>\n",
       "    </tr>\n",
       "    <tr>\n",
       "      <th>...</th>\n",
       "      <td>...</td>\n",
       "      <td>...</td>\n",
       "      <td>...</td>\n",
       "    </tr>\n",
       "    <tr>\n",
       "      <th>57478</th>\n",
       "      <td>18503220</td>\n",
       "      <td>156.999953</td>\n",
       "      <td>=&lt;300</td>\n",
       "    </tr>\n",
       "    <tr>\n",
       "      <th>57479</th>\n",
       "      <td>15469723</td>\n",
       "      <td>214.171655</td>\n",
       "      <td>=&lt;300</td>\n",
       "    </tr>\n",
       "    <tr>\n",
       "      <th>57480</th>\n",
       "      <td>25032874</td>\n",
       "      <td>283.991250</td>\n",
       "      <td>=&lt;300</td>\n",
       "    </tr>\n",
       "    <tr>\n",
       "      <th>57481</th>\n",
       "      <td>20916846</td>\n",
       "      <td>152.000000</td>\n",
       "      <td>=&lt;300</td>\n",
       "    </tr>\n",
       "    <tr>\n",
       "      <th>57482</th>\n",
       "      <td>20711380</td>\n",
       "      <td>179.000000</td>\n",
       "      <td>=&lt;300</td>\n",
       "    </tr>\n",
       "  </tbody>\n",
       "</table>\n",
       "<p>57483 rows × 3 columns</p>\n",
       "</div>"
      ],
      "text/plain": [
       "        loan_id  valor_parcela flag_parcela\n",
       "0      23488783     179.850000        =<300\n",
       "1      19853726     422.480000         >300\n",
       "2      23896506     535.040000         >300\n",
       "3      22407538     133.240000        =<300\n",
       "4      23901789     280.350000        =<300\n",
       "...         ...            ...          ...\n",
       "57478  18503220     156.999953        =<300\n",
       "57479  15469723     214.171655        =<300\n",
       "57480  25032874     283.991250        =<300\n",
       "57481  20916846     152.000000        =<300\n",
       "57482  20711380     179.000000        =<300\n",
       "\n",
       "[57483 rows x 3 columns]"
      ]
     },
     "execution_count": 14,
     "metadata": {},
     "output_type": "execute_result"
    }
   ],
   "source": [
    "df[['loan_id','valor_parcela','flag_parcela']]"
   ]
  },
  {
   "cell_type": "code",
   "execution_count": 15,
   "metadata": {},
   "outputs": [],
   "source": [
    "df['regiao'] = df['address_state']\n",
    "df['regiao'].fillna('na', inplace=True)"
   ]
  },
  {
   "cell_type": "code",
   "execution_count": 16,
   "metadata": {},
   "outputs": [],
   "source": [
    "for indice, linha in df.iterrows():\n",
    "    if linha['regiao'] == 'SP':\n",
    "        df.at[indice, 'custo'] = 3.19\n",
    "    else:\n",
    "        df.at[indice, 'custo'] = 9.14"
   ]
  },
  {
   "cell_type": "code",
   "execution_count": 17,
   "metadata": {},
   "outputs": [],
   "source": [
    "df_grupocontrole = df_acaocontrole.copy()"
   ]
  },
  {
   "cell_type": "code",
   "execution_count": 18,
   "metadata": {},
   "outputs": [],
   "source": [
    "df_grupocontrole['flag_controle'] = '1'"
   ]
  },
  {
   "cell_type": "code",
   "execution_count": 19,
   "metadata": {},
   "outputs": [],
   "source": [
    "df_grupocontrole = df_grupocontrole.loc[:,['loan_id','flag_controle','grupo']]"
   ]
  },
  {
   "cell_type": "code",
   "execution_count": 20,
   "metadata": {},
   "outputs": [],
   "source": [
    "df = pd.merge(df,df_grupocontrole,how='left', on='loan_id')"
   ]
  },
  {
   "cell_type": "code",
   "execution_count": 21,
   "metadata": {},
   "outputs": [],
   "source": [
    "df['flag_controle'].fillna(0, inplace=True)\n",
    "df['flag_controle'] = df['flag_controle'].astype(int)"
   ]
  },
  {
   "cell_type": "code",
   "execution_count": 22,
   "metadata": {},
   "outputs": [],
   "source": [
    "df['grupo_controle'] = df['flag_controle']\n",
    "df['acao_controle'] = df['grupo']"
   ]
  },
  {
   "cell_type": "code",
   "execution_count": 23,
   "metadata": {},
   "outputs": [],
   "source": [
    "df = df.drop(['flag_controle','grupo'], axis=1)"
   ]
  },
  {
   "cell_type": "code",
   "execution_count": 24,
   "metadata": {},
   "outputs": [],
   "source": [
    "df_retorno = df_acaocontrole.copy()"
   ]
  },
  {
   "cell_type": "code",
   "execution_count": 25,
   "metadata": {},
   "outputs": [],
   "source": [
    "df_retorno = df_retorno.loc[:,['loan_id','data_retorno','semana']]"
   ]
  },
  {
   "cell_type": "code",
   "execution_count": 26,
   "metadata": {},
   "outputs": [
    {
     "data": {
      "text/html": [
       "<div>\n",
       "<style scoped>\n",
       "    .dataframe tbody tr th:only-of-type {\n",
       "        vertical-align: middle;\n",
       "    }\n",
       "\n",
       "    .dataframe tbody tr th {\n",
       "        vertical-align: top;\n",
       "    }\n",
       "\n",
       "    .dataframe thead th {\n",
       "        text-align: right;\n",
       "    }\n",
       "</style>\n",
       "<table border=\"1\" class=\"dataframe\">\n",
       "  <thead>\n",
       "    <tr style=\"text-align: right;\">\n",
       "      <th></th>\n",
       "      <th>loan_id</th>\n",
       "      <th>data_retorno</th>\n",
       "      <th>semana</th>\n",
       "    </tr>\n",
       "  </thead>\n",
       "  <tbody>\n",
       "    <tr>\n",
       "      <th>0</th>\n",
       "      <td>15937649</td>\n",
       "      <td>2024-02-16</td>\n",
       "      <td>semana 01</td>\n",
       "    </tr>\n",
       "    <tr>\n",
       "      <th>1</th>\n",
       "      <td>6711419</td>\n",
       "      <td>2024-02-16</td>\n",
       "      <td>semana 01</td>\n",
       "    </tr>\n",
       "    <tr>\n",
       "      <th>2</th>\n",
       "      <td>23267037</td>\n",
       "      <td>2024-02-16</td>\n",
       "      <td>semana 01</td>\n",
       "    </tr>\n",
       "  </tbody>\n",
       "</table>\n",
       "</div>"
      ],
      "text/plain": [
       "    loan_id data_retorno     semana\n",
       "0  15937649   2024-02-16  semana 01\n",
       "1   6711419   2024-02-16  semana 01\n",
       "2  23267037   2024-02-16  semana 01"
      ]
     },
     "execution_count": 26,
     "metadata": {},
     "output_type": "execute_result"
    }
   ],
   "source": [
    "df_retorno.head(3)"
   ]
  },
  {
   "cell_type": "code",
   "execution_count": 31,
   "metadata": {},
   "outputs": [],
   "source": [
    "df_retorno = df_retorno[df_retorno['data_retorno'] <= hoje]"
   ]
  },
  {
   "cell_type": "code",
   "execution_count": 37,
   "metadata": {},
   "outputs": [],
   "source": [
    "df = pd.merge(df,df_retorno, how='left', on='loan_id')"
   ]
  },
  {
   "cell_type": "code",
   "execution_count": 39,
   "metadata": {},
   "outputs": [],
   "source": [
    "df['retorno'] = df['semana']\n",
    "df['retorno'].fillna(0, inplace=True)"
   ]
  },
  {
   "cell_type": "code",
   "execution_count": 40,
   "metadata": {},
   "outputs": [],
   "source": [
    "df = df.drop(['data_retorno','semana'], axis=1)"
   ]
  },
  {
   "cell_type": "code",
   "execution_count": 45,
   "metadata": {},
   "outputs": [],
   "source": [
    "atraso = ['2 - 30a60', '3 - 60a90', '4 - 90a120']\n",
    "df_final = df[df['late_category_expandida_noverde_atual'].isin(atraso)]"
   ]
  },
  {
   "cell_type": "code",
   "execution_count": 48,
   "metadata": {},
   "outputs": [
    {
     "data": {
      "text/plain": [
       "(26457, 70)"
      ]
     },
     "execution_count": 48,
     "metadata": {},
     "output_type": "execute_result"
    }
   ],
   "source": [
    "df_final.shape"
   ]
  },
  {
   "cell_type": "code",
   "execution_count": 53,
   "metadata": {},
   "outputs": [],
   "source": [
    "flag_protesto = df_final.pivot_table(index='late_category_expandida_noverde_atual', \n",
    "                             columns='flag_protesto', \n",
    "                             values='loan_id', \n",
    "                             aggfunc='count', \n",
    "                             margins=True, \n",
    "                             margins_name='Total')"
   ]
  },
  {
   "cell_type": "code",
   "execution_count": 54,
   "metadata": {},
   "outputs": [
    {
     "data": {
      "text/html": [
       "<div>\n",
       "<style scoped>\n",
       "    .dataframe tbody tr th:only-of-type {\n",
       "        vertical-align: middle;\n",
       "    }\n",
       "\n",
       "    .dataframe tbody tr th {\n",
       "        vertical-align: top;\n",
       "    }\n",
       "\n",
       "    .dataframe thead th {\n",
       "        text-align: right;\n",
       "    }\n",
       "</style>\n",
       "<table border=\"1\" class=\"dataframe\">\n",
       "  <thead>\n",
       "    <tr style=\"text-align: right;\">\n",
       "      <th>flag_protesto</th>\n",
       "      <th>0</th>\n",
       "      <th>1</th>\n",
       "      <th>Total</th>\n",
       "    </tr>\n",
       "    <tr>\n",
       "      <th>late_category_expandida_noverde_atual</th>\n",
       "      <th></th>\n",
       "      <th></th>\n",
       "      <th></th>\n",
       "    </tr>\n",
       "  </thead>\n",
       "  <tbody>\n",
       "    <tr>\n",
       "      <th>2 - 30a60</th>\n",
       "      <td>10738</td>\n",
       "      <td>13</td>\n",
       "      <td>10751</td>\n",
       "    </tr>\n",
       "    <tr>\n",
       "      <th>3 - 60a90</th>\n",
       "      <td>7527</td>\n",
       "      <td>931</td>\n",
       "      <td>8458</td>\n",
       "    </tr>\n",
       "    <tr>\n",
       "      <th>4 - 90a120</th>\n",
       "      <td>5469</td>\n",
       "      <td>1779</td>\n",
       "      <td>7248</td>\n",
       "    </tr>\n",
       "    <tr>\n",
       "      <th>Total</th>\n",
       "      <td>23734</td>\n",
       "      <td>2723</td>\n",
       "      <td>26457</td>\n",
       "    </tr>\n",
       "  </tbody>\n",
       "</table>\n",
       "</div>"
      ],
      "text/plain": [
       "flag_protesto                              0     1  Total\n",
       "late_category_expandida_noverde_atual                    \n",
       "2 - 30a60                              10738    13  10751\n",
       "3 - 60a90                               7527   931   8458\n",
       "4 - 90a120                              5469  1779   7248\n",
       "Total                                  23734  2723  26457"
      ]
     },
     "execution_count": 54,
     "metadata": {},
     "output_type": "execute_result"
    }
   ],
   "source": [
    "flag_protesto"
   ]
  },
  {
   "cell_type": "code",
   "execution_count": 55,
   "metadata": {},
   "outputs": [
    {
     "data": {
      "text/html": [
       "<div>\n",
       "<style scoped>\n",
       "    .dataframe tbody tr th:only-of-type {\n",
       "        vertical-align: middle;\n",
       "    }\n",
       "\n",
       "    .dataframe tbody tr th {\n",
       "        vertical-align: top;\n",
       "    }\n",
       "\n",
       "    .dataframe thead th {\n",
       "        text-align: right;\n",
       "    }\n",
       "</style>\n",
       "<table border=\"1\" class=\"dataframe\">\n",
       "  <thead>\n",
       "    <tr style=\"text-align: right;\">\n",
       "      <th></th>\n",
       "      <th>dt_ref</th>\n",
       "      <th>borrower_id</th>\n",
       "      <th>loan_id</th>\n",
       "      <th>CPF</th>\n",
       "      <th>lecca_id</th>\n",
       "      <th>reference_date</th>\n",
       "      <th>safra</th>\n",
       "      <th>safra_reparc</th>\n",
       "      <th>conditions</th>\n",
       "      <th>cluster</th>\n",
       "      <th>...</th>\n",
       "      <th>fee_padrao_noverde</th>\n",
       "      <th>acordo_a_vencer</th>\n",
       "      <th>address_state</th>\n",
       "      <th>flag_protesto</th>\n",
       "      <th>flag_parcela</th>\n",
       "      <th>regiao</th>\n",
       "      <th>custo</th>\n",
       "      <th>grupo_controle</th>\n",
       "      <th>acao_controle</th>\n",
       "      <th>retorno</th>\n",
       "    </tr>\n",
       "  </thead>\n",
       "  <tbody>\n",
       "    <tr>\n",
       "      <th>0</th>\n",
       "      <td>202404</td>\n",
       "      <td>4955621</td>\n",
       "      <td>23488783</td>\n",
       "      <td>3690846595</td>\n",
       "      <td>9632570.0</td>\n",
       "      <td>2024-04-01</td>\n",
       "      <td>2023-08-01</td>\n",
       "      <td>-</td>\n",
       "      <td>original</td>\n",
       "      <td>demais</td>\n",
       "      <td>...</td>\n",
       "      <td>0.02</td>\n",
       "      <td>0</td>\n",
       "      <td>SE</td>\n",
       "      <td>0</td>\n",
       "      <td>=&lt;300</td>\n",
       "      <td>SE</td>\n",
       "      <td>9.14</td>\n",
       "      <td>0</td>\n",
       "      <td>NaN</td>\n",
       "      <td>0</td>\n",
       "    </tr>\n",
       "    <tr>\n",
       "      <th>1</th>\n",
       "      <td>202404</td>\n",
       "      <td>3730893</td>\n",
       "      <td>19853726</td>\n",
       "      <td>21785286862</td>\n",
       "      <td>4675629.0</td>\n",
       "      <td>2024-04-01</td>\n",
       "      <td>2023-03-01</td>\n",
       "      <td>-</td>\n",
       "      <td>original</td>\n",
       "      <td>pagou_adjusted_value</td>\n",
       "      <td>...</td>\n",
       "      <td>0.02</td>\n",
       "      <td>0</td>\n",
       "      <td>SP</td>\n",
       "      <td>1</td>\n",
       "      <td>&gt;300</td>\n",
       "      <td>SP</td>\n",
       "      <td>3.19</td>\n",
       "      <td>1</td>\n",
       "      <td>acao</td>\n",
       "      <td>semana 05</td>\n",
       "    </tr>\n",
       "    <tr>\n",
       "      <th>2</th>\n",
       "      <td>202404</td>\n",
       "      <td>3730893</td>\n",
       "      <td>19853726</td>\n",
       "      <td>21785286862</td>\n",
       "      <td>4675629.0</td>\n",
       "      <td>2024-04-01</td>\n",
       "      <td>2023-03-01</td>\n",
       "      <td>-</td>\n",
       "      <td>original</td>\n",
       "      <td>pagou_adjusted_value</td>\n",
       "      <td>...</td>\n",
       "      <td>0.02</td>\n",
       "      <td>0</td>\n",
       "      <td>SP</td>\n",
       "      <td>1</td>\n",
       "      <td>&gt;300</td>\n",
       "      <td>SP</td>\n",
       "      <td>3.19</td>\n",
       "      <td>1</td>\n",
       "      <td>acao</td>\n",
       "      <td>semana 05</td>\n",
       "    </tr>\n",
       "    <tr>\n",
       "      <th>3</th>\n",
       "      <td>202404</td>\n",
       "      <td>3261294</td>\n",
       "      <td>23896506</td>\n",
       "      <td>60350554358</td>\n",
       "      <td>10744377.0</td>\n",
       "      <td>2024-04-01</td>\n",
       "      <td>2023-08-01</td>\n",
       "      <td>-</td>\n",
       "      <td>original</td>\n",
       "      <td>demais</td>\n",
       "      <td>...</td>\n",
       "      <td>0.02</td>\n",
       "      <td>0</td>\n",
       "      <td>PA</td>\n",
       "      <td>1</td>\n",
       "      <td>&gt;300</td>\n",
       "      <td>PA</td>\n",
       "      <td>9.14</td>\n",
       "      <td>1</td>\n",
       "      <td>acao</td>\n",
       "      <td>semana 05</td>\n",
       "    </tr>\n",
       "    <tr>\n",
       "      <th>4</th>\n",
       "      <td>202404</td>\n",
       "      <td>8643792</td>\n",
       "      <td>22407538</td>\n",
       "      <td>77023315349</td>\n",
       "      <td>7852121.0</td>\n",
       "      <td>2024-04-01</td>\n",
       "      <td>2023-06-01</td>\n",
       "      <td>2023-11</td>\n",
       "      <td>reparcelamento</td>\n",
       "      <td>demais</td>\n",
       "      <td>...</td>\n",
       "      <td>0.02</td>\n",
       "      <td>0</td>\n",
       "      <td>CE</td>\n",
       "      <td>0</td>\n",
       "      <td>=&lt;300</td>\n",
       "      <td>CE</td>\n",
       "      <td>9.14</td>\n",
       "      <td>0</td>\n",
       "      <td>NaN</td>\n",
       "      <td>0</td>\n",
       "    </tr>\n",
       "  </tbody>\n",
       "</table>\n",
       "<p>5 rows × 70 columns</p>\n",
       "</div>"
      ],
      "text/plain": [
       "   dt_ref  borrower_id   loan_id          CPF    lecca_id reference_date  \\\n",
       "0  202404      4955621  23488783   3690846595   9632570.0     2024-04-01   \n",
       "1  202404      3730893  19853726  21785286862   4675629.0     2024-04-01   \n",
       "2  202404      3730893  19853726  21785286862   4675629.0     2024-04-01   \n",
       "3  202404      3261294  23896506  60350554358  10744377.0     2024-04-01   \n",
       "4  202404      8643792  22407538  77023315349   7852121.0     2024-04-01   \n",
       "\n",
       "       safra safra_reparc      conditions               cluster  ...  \\\n",
       "0 2023-08-01            -        original                demais  ...   \n",
       "1 2023-03-01            -        original  pagou_adjusted_value  ...   \n",
       "2 2023-03-01            -        original  pagou_adjusted_value  ...   \n",
       "3 2023-08-01            -        original                demais  ...   \n",
       "4 2023-06-01      2023-11  reparcelamento                demais  ...   \n",
       "\n",
       "   fee_padrao_noverde acordo_a_vencer  address_state  flag_protesto  \\\n",
       "0                0.02               0             SE              0   \n",
       "1                0.02               0             SP              1   \n",
       "2                0.02               0             SP              1   \n",
       "3                0.02               0             PA              1   \n",
       "4                0.02               0             CE              0   \n",
       "\n",
       "   flag_parcela regiao custo  grupo_controle acao_controle    retorno  \n",
       "0         =<300     SE  9.14               0           NaN          0  \n",
       "1          >300     SP  3.19               1          acao  semana 05  \n",
       "2          >300     SP  3.19               1          acao  semana 05  \n",
       "3          >300     PA  9.14               1          acao  semana 05  \n",
       "4         =<300     CE  9.14               0           NaN          0  \n",
       "\n",
       "[5 rows x 70 columns]"
      ]
     },
     "execution_count": 55,
     "metadata": {},
     "output_type": "execute_result"
    }
   ],
   "source": [
    "df_final.head()"
   ]
  },
  {
   "cell_type": "code",
   "execution_count": null,
   "metadata": {},
   "outputs": [],
   "source": [
    "flag_grupo = df_final.pivot_table(index='late_category_expandida_noverde_atual',\n",
    "                                  columns='')"
   ]
  }
 ],
 "metadata": {
  "kernelspec": {
   "display_name": "Python 3",
   "language": "python",
   "name": "python3"
  },
  "language_info": {
   "codemirror_mode": {
    "name": "ipython",
    "version": 3
   },
   "file_extension": ".py",
   "mimetype": "text/x-python",
   "name": "python",
   "nbconvert_exporter": "python",
   "pygments_lexer": "ipython3",
   "version": "3.11.7"
  }
 },
 "nbformat": 4,
 "nbformat_minor": 2
}
