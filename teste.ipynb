{
 "cells": [
  {
   "cell_type": "code",
   "execution_count": 1,
   "metadata": {},
   "outputs": [],
   "source": [
    "import pandas as pd\n",
    "import numpy as np\n",
    "import numpy_financial as npf\n",
    "import datetime as dt\n",
    "import csv"
   ]
  },
  {
   "cell_type": "code",
   "execution_count": 2,
   "metadata": {},
   "outputs": [],
   "source": [
    "hoje = dt.datetime.today().strftime('%Y-%m-%d')"
   ]
  },
  {
   "cell_type": "markdown",
   "metadata": {},
   "source": [
    "Subindo as bases"
   ]
  },
  {
   "cell_type": "code",
   "execution_count": 3,
   "metadata": {},
   "outputs": [],
   "source": [
    "df_basetotal = pd.read_excel('input_sem_exclusao08042024_teste.xlsx', sheet_name='base_total')\n",
    "df_recuperi = pd.read_excel('Base_camila_0204.xlsx', header=1)\n",
    "df_acaocontrole = pd.read_csv('base_grupo_acao_controle.csv')"
   ]
  },
  {
   "cell_type": "markdown",
   "metadata": {},
   "source": [
    "Volumetria da base total"
   ]
  },
  {
   "cell_type": "code",
   "execution_count": 4,
   "metadata": {},
   "outputs": [
    {
     "data": {
      "text/plain": [
       "(57483, 63)"
      ]
     },
     "execution_count": 4,
     "metadata": {},
     "output_type": "execute_result"
    }
   ],
   "source": [
    "df_basetotal.shape"
   ]
  },
  {
   "cell_type": "markdown",
   "metadata": {},
   "source": [
    "Flag Protesto"
   ]
  },
  {
   "cell_type": "code",
   "execution_count": 5,
   "metadata": {},
   "outputs": [],
   "source": [
    "df_recuperi.rename(columns={'Número do título': 'loan_id'}, inplace=True)\n",
    "df_recuperi['flag_protesto'] = 1"
   ]
  },
  {
   "cell_type": "code",
   "execution_count": 6,
   "metadata": {},
   "outputs": [],
   "source": [
    "df_recuperi = df_recuperi.loc[:,['loan_id','flag_protesto']]"
   ]
  },
  {
   "cell_type": "code",
   "execution_count": 7,
   "metadata": {},
   "outputs": [],
   "source": [
    "df = pd.merge(df_basetotal,df_recuperi, how='left', on='loan_id')"
   ]
  },
  {
   "cell_type": "code",
   "execution_count": 8,
   "metadata": {},
   "outputs": [],
   "source": [
    "df.fillna({'flag_protesto': 0}, inplace=True)\n",
    "df['flag_protesto'] = df['flag_protesto'].astype(int)"
   ]
  },
  {
   "cell_type": "code",
   "execution_count": 9,
   "metadata": {},
   "outputs": [
    {
     "data": {
      "text/plain": [
       "flag_protesto\n",
       "0    48498\n",
       "1     8985\n",
       "Name: loan_id, dtype: int64"
      ]
     },
     "execution_count": 9,
     "metadata": {},
     "output_type": "execute_result"
    }
   ],
   "source": [
    "df.groupby('flag_protesto')['loan_id'].count()"
   ]
  },
  {
   "cell_type": "code",
   "execution_count": 10,
   "metadata": {},
   "outputs": [
    {
     "data": {
      "text/plain": [
       "(57483, 63)"
      ]
     },
     "execution_count": 10,
     "metadata": {},
     "output_type": "execute_result"
    }
   ],
   "source": [
    "df_basetotal.shape"
   ]
  },
  {
   "cell_type": "markdown",
   "metadata": {},
   "source": [
    "Criando demais flags e populando"
   ]
  },
  {
   "cell_type": "code",
   "execution_count": 11,
   "metadata": {},
   "outputs": [],
   "source": [
    "df['flag_parcela'] = ''\n",
    "df['estado'] = ''\n",
    "df['regiao'] = ''\n",
    "df['custo'] = ''\n",
    "df['grupo_controle'] = ''\n",
    "df['acao_controle'] = ''\n",
    "df['retorno'] = ''"
   ]
  },
  {
   "cell_type": "markdown",
   "metadata": {},
   "source": [
    "Flag Parcela"
   ]
  },
  {
   "cell_type": "code",
   "execution_count": 12,
   "metadata": {},
   "outputs": [
    {
     "data": {
      "text/html": [
       "<div>\n",
       "<style scoped>\n",
       "    .dataframe tbody tr th:only-of-type {\n",
       "        vertical-align: middle;\n",
       "    }\n",
       "\n",
       "    .dataframe tbody tr th {\n",
       "        vertical-align: top;\n",
       "    }\n",
       "\n",
       "    .dataframe thead th {\n",
       "        text-align: right;\n",
       "    }\n",
       "</style>\n",
       "<table border=\"1\" class=\"dataframe\">\n",
       "  <thead>\n",
       "    <tr style=\"text-align: right;\">\n",
       "      <th></th>\n",
       "      <th>loan_id</th>\n",
       "      <th>valor_parcela</th>\n",
       "      <th>flag_parcela</th>\n",
       "    </tr>\n",
       "  </thead>\n",
       "  <tbody>\n",
       "    <tr>\n",
       "      <th>0</th>\n",
       "      <td>23488783</td>\n",
       "      <td>179.85</td>\n",
       "      <td></td>\n",
       "    </tr>\n",
       "    <tr>\n",
       "      <th>1</th>\n",
       "      <td>19853726</td>\n",
       "      <td>422.48</td>\n",
       "      <td></td>\n",
       "    </tr>\n",
       "    <tr>\n",
       "      <th>2</th>\n",
       "      <td>23896506</td>\n",
       "      <td>535.04</td>\n",
       "      <td></td>\n",
       "    </tr>\n",
       "    <tr>\n",
       "      <th>3</th>\n",
       "      <td>22407538</td>\n",
       "      <td>133.24</td>\n",
       "      <td></td>\n",
       "    </tr>\n",
       "    <tr>\n",
       "      <th>4</th>\n",
       "      <td>23901789</td>\n",
       "      <td>280.35</td>\n",
       "      <td></td>\n",
       "    </tr>\n",
       "  </tbody>\n",
       "</table>\n",
       "</div>"
      ],
      "text/plain": [
       "    loan_id  valor_parcela flag_parcela\n",
       "0  23488783         179.85             \n",
       "1  19853726         422.48             \n",
       "2  23896506         535.04             \n",
       "3  22407538         133.24             \n",
       "4  23901789         280.35             "
      ]
     },
     "execution_count": 12,
     "metadata": {},
     "output_type": "execute_result"
    }
   ],
   "source": [
    "df[['loan_id','valor_parcela','flag_parcela']].head(5)"
   ]
  },
  {
   "cell_type": "code",
   "execution_count": 13,
   "metadata": {},
   "outputs": [],
   "source": [
    "for indice, linha in df.iterrows():\n",
    "    if linha['valor_parcela'] > 300:\n",
    "        df.at[indice, 'flag_parcela'] = '>300'\n",
    "    else:\n",
    "        df.at[indice, 'flag_parcela'] = '=<300'"
   ]
  },
  {
   "cell_type": "code",
   "execution_count": 14,
   "metadata": {},
   "outputs": [
    {
     "data": {
      "text/html": [
       "<div>\n",
       "<style scoped>\n",
       "    .dataframe tbody tr th:only-of-type {\n",
       "        vertical-align: middle;\n",
       "    }\n",
       "\n",
       "    .dataframe tbody tr th {\n",
       "        vertical-align: top;\n",
       "    }\n",
       "\n",
       "    .dataframe thead th {\n",
       "        text-align: right;\n",
       "    }\n",
       "</style>\n",
       "<table border=\"1\" class=\"dataframe\">\n",
       "  <thead>\n",
       "    <tr style=\"text-align: right;\">\n",
       "      <th></th>\n",
       "      <th>loan_id</th>\n",
       "      <th>valor_parcela</th>\n",
       "      <th>flag_parcela</th>\n",
       "    </tr>\n",
       "  </thead>\n",
       "  <tbody>\n",
       "    <tr>\n",
       "      <th>0</th>\n",
       "      <td>23488783</td>\n",
       "      <td>179.85</td>\n",
       "      <td>=&lt;300</td>\n",
       "    </tr>\n",
       "    <tr>\n",
       "      <th>1</th>\n",
       "      <td>19853726</td>\n",
       "      <td>422.48</td>\n",
       "      <td>&gt;300</td>\n",
       "    </tr>\n",
       "    <tr>\n",
       "      <th>2</th>\n",
       "      <td>23896506</td>\n",
       "      <td>535.04</td>\n",
       "      <td>&gt;300</td>\n",
       "    </tr>\n",
       "    <tr>\n",
       "      <th>3</th>\n",
       "      <td>22407538</td>\n",
       "      <td>133.24</td>\n",
       "      <td>=&lt;300</td>\n",
       "    </tr>\n",
       "    <tr>\n",
       "      <th>4</th>\n",
       "      <td>23901789</td>\n",
       "      <td>280.35</td>\n",
       "      <td>=&lt;300</td>\n",
       "    </tr>\n",
       "  </tbody>\n",
       "</table>\n",
       "</div>"
      ],
      "text/plain": [
       "    loan_id  valor_parcela flag_parcela\n",
       "0  23488783         179.85        =<300\n",
       "1  19853726         422.48         >300\n",
       "2  23896506         535.04         >300\n",
       "3  22407538         133.24        =<300\n",
       "4  23901789         280.35        =<300"
      ]
     },
     "execution_count": 14,
     "metadata": {},
     "output_type": "execute_result"
    }
   ],
   "source": [
    "df[['loan_id','valor_parcela','flag_parcela']].head(5)"
   ]
  },
  {
   "cell_type": "markdown",
   "metadata": {},
   "source": [
    "Flag estado"
   ]
  },
  {
   "cell_type": "code",
   "execution_count": 15,
   "metadata": {},
   "outputs": [],
   "source": [
    "df['estado'] = df['address_state']\n",
    "#df['regiao'].fillna('na', inplace=True)\n",
    "df.fillna({'estado': 0}, inplace=True)"
   ]
  },
  {
   "cell_type": "code",
   "execution_count": 16,
   "metadata": {},
   "outputs": [
    {
     "data": {
      "text/plain": [
       "estado\n",
       "0        10\n",
       "AC      192\n",
       "AL      353\n",
       "AM      847\n",
       "AP      204\n",
       "BA     1994\n",
       "CE     1073\n",
       "DF     1655\n",
       "ES     1126\n",
       "GO     3068\n",
       "MA      792\n",
       "MG     5246\n",
       "MS     1175\n",
       "MT     1364\n",
       "PA     1895\n",
       "PB      535\n",
       "PE     1051\n",
       "PI      538\n",
       "PR     3694\n",
       "RJ     4141\n",
       "RN      534\n",
       "RO      539\n",
       "RR      166\n",
       "RS     3444\n",
       "SC     2793\n",
       "SE      273\n",
       "SP    18331\n",
       "TO      450\n",
       "Name: loan_id, dtype: int64"
      ]
     },
     "execution_count": 16,
     "metadata": {},
     "output_type": "execute_result"
    }
   ],
   "source": [
    "df.groupby('estado')['loan_id'].count()"
   ]
  },
  {
   "cell_type": "markdown",
   "metadata": {},
   "source": [
    "Flag custo"
   ]
  },
  {
   "cell_type": "code",
   "execution_count": 17,
   "metadata": {},
   "outputs": [],
   "source": [
    "for indice, linha in df.iterrows():\n",
    "    if linha['estado'] == 'SP':\n",
    "        df.at[indice, 'custo'] = 3.19\n",
    "    else:\n",
    "        df.at[indice, 'custo'] = 9.14"
   ]
  },
  {
   "cell_type": "code",
   "execution_count": 18,
   "metadata": {},
   "outputs": [
    {
     "data": {
      "text/html": [
       "<div>\n",
       "<style scoped>\n",
       "    .dataframe tbody tr th:only-of-type {\n",
       "        vertical-align: middle;\n",
       "    }\n",
       "\n",
       "    .dataframe tbody tr th {\n",
       "        vertical-align: top;\n",
       "    }\n",
       "\n",
       "    .dataframe thead th {\n",
       "        text-align: right;\n",
       "    }\n",
       "</style>\n",
       "<table border=\"1\" class=\"dataframe\">\n",
       "  <thead>\n",
       "    <tr style=\"text-align: right;\">\n",
       "      <th></th>\n",
       "      <th>loan_id</th>\n",
       "      <th>valor_parcela</th>\n",
       "      <th>estado</th>\n",
       "      <th>custo</th>\n",
       "    </tr>\n",
       "  </thead>\n",
       "  <tbody>\n",
       "    <tr>\n",
       "      <th>0</th>\n",
       "      <td>23488783</td>\n",
       "      <td>179.85</td>\n",
       "      <td>SE</td>\n",
       "      <td>9.14</td>\n",
       "    </tr>\n",
       "    <tr>\n",
       "      <th>1</th>\n",
       "      <td>19853726</td>\n",
       "      <td>422.48</td>\n",
       "      <td>SP</td>\n",
       "      <td>3.19</td>\n",
       "    </tr>\n",
       "    <tr>\n",
       "      <th>2</th>\n",
       "      <td>23896506</td>\n",
       "      <td>535.04</td>\n",
       "      <td>PA</td>\n",
       "      <td>9.14</td>\n",
       "    </tr>\n",
       "    <tr>\n",
       "      <th>3</th>\n",
       "      <td>22407538</td>\n",
       "      <td>133.24</td>\n",
       "      <td>CE</td>\n",
       "      <td>9.14</td>\n",
       "    </tr>\n",
       "    <tr>\n",
       "      <th>4</th>\n",
       "      <td>23901789</td>\n",
       "      <td>280.35</td>\n",
       "      <td>RJ</td>\n",
       "      <td>9.14</td>\n",
       "    </tr>\n",
       "  </tbody>\n",
       "</table>\n",
       "</div>"
      ],
      "text/plain": [
       "    loan_id  valor_parcela estado custo\n",
       "0  23488783         179.85     SE  9.14\n",
       "1  19853726         422.48     SP  3.19\n",
       "2  23896506         535.04     PA  9.14\n",
       "3  22407538         133.24     CE  9.14\n",
       "4  23901789         280.35     RJ  9.14"
      ]
     },
     "execution_count": 18,
     "metadata": {},
     "output_type": "execute_result"
    }
   ],
   "source": [
    "df[['loan_id','valor_parcela','estado','custo']].head(5)"
   ]
  },
  {
   "cell_type": "markdown",
   "metadata": {},
   "source": [
    "Flag Regiao"
   ]
  },
  {
   "cell_type": "code",
   "execution_count": 19,
   "metadata": {},
   "outputs": [],
   "source": [
    "mapeamento_regioes = {\n",
    "    'AC': 'Norte',\n",
    "    'AL': 'Nordeste',\n",
    "    'AP': 'Norte',\n",
    "    'AM': 'Norte',\n",
    "    'BA': 'Nordeste',\n",
    "    'CE': 'Nordeste',\n",
    "    'DF': 'Centro-Oeste',\n",
    "    'ES': 'Sudeste',\n",
    "    'GO': 'Centro-Oeste',\n",
    "    'MA': 'Nordeste',\n",
    "    'MT': 'Centro-Oeste',\n",
    "    'MS': 'Centro-Oeste',\n",
    "    'MG': 'Sudeste',\n",
    "    'PA': 'Norte',\n",
    "    'PB': 'Nordeste',\n",
    "    'PR': 'Sul',\n",
    "    'PE': 'Nordeste',\n",
    "    'PI': 'Nordeste',\n",
    "    'RJ': 'Sudeste',\n",
    "    'RN': 'Nordeste',\n",
    "    'RS': 'Sul',\n",
    "    'RO': 'Norte',\n",
    "    'RR': 'Norte',\n",
    "    'SC': 'Sul',\n",
    "    'SP': 'Sudeste',\n",
    "    'SE': 'Nordeste',\n",
    "    'TO': 'Norte'\n",
    "}\n",
    "\n",
    "df['regiao'] = df['estado'].map(mapeamento_regioes)"
   ]
  },
  {
   "cell_type": "code",
   "execution_count": 20,
   "metadata": {},
   "outputs": [
    {
     "data": {
      "text/html": [
       "<div>\n",
       "<style scoped>\n",
       "    .dataframe tbody tr th:only-of-type {\n",
       "        vertical-align: middle;\n",
       "    }\n",
       "\n",
       "    .dataframe tbody tr th {\n",
       "        vertical-align: top;\n",
       "    }\n",
       "\n",
       "    .dataframe thead th {\n",
       "        text-align: right;\n",
       "    }\n",
       "</style>\n",
       "<table border=\"1\" class=\"dataframe\">\n",
       "  <thead>\n",
       "    <tr style=\"text-align: right;\">\n",
       "      <th></th>\n",
       "      <th>loan_id</th>\n",
       "      <th>estado</th>\n",
       "      <th>regiao</th>\n",
       "    </tr>\n",
       "  </thead>\n",
       "  <tbody>\n",
       "    <tr>\n",
       "      <th>0</th>\n",
       "      <td>23488783</td>\n",
       "      <td>SE</td>\n",
       "      <td>Nordeste</td>\n",
       "    </tr>\n",
       "    <tr>\n",
       "      <th>1</th>\n",
       "      <td>19853726</td>\n",
       "      <td>SP</td>\n",
       "      <td>Sudeste</td>\n",
       "    </tr>\n",
       "    <tr>\n",
       "      <th>2</th>\n",
       "      <td>23896506</td>\n",
       "      <td>PA</td>\n",
       "      <td>Norte</td>\n",
       "    </tr>\n",
       "    <tr>\n",
       "      <th>3</th>\n",
       "      <td>22407538</td>\n",
       "      <td>CE</td>\n",
       "      <td>Nordeste</td>\n",
       "    </tr>\n",
       "    <tr>\n",
       "      <th>4</th>\n",
       "      <td>23901789</td>\n",
       "      <td>RJ</td>\n",
       "      <td>Sudeste</td>\n",
       "    </tr>\n",
       "  </tbody>\n",
       "</table>\n",
       "</div>"
      ],
      "text/plain": [
       "    loan_id estado    regiao\n",
       "0  23488783     SE  Nordeste\n",
       "1  19853726     SP   Sudeste\n",
       "2  23896506     PA     Norte\n",
       "3  22407538     CE  Nordeste\n",
       "4  23901789     RJ   Sudeste"
      ]
     },
     "execution_count": 20,
     "metadata": {},
     "output_type": "execute_result"
    }
   ],
   "source": [
    "df[['loan_id','estado','regiao']].head(5)"
   ]
  },
  {
   "cell_type": "markdown",
   "metadata": {},
   "source": [
    "Flag grupo controle"
   ]
  },
  {
   "cell_type": "code",
   "execution_count": 21,
   "metadata": {},
   "outputs": [
    {
     "data": {
      "text/plain": [
       "(12942, 11)"
      ]
     },
     "execution_count": 21,
     "metadata": {},
     "output_type": "execute_result"
    }
   ],
   "source": [
    "df_acaocontrole.shape"
   ]
  },
  {
   "cell_type": "code",
   "execution_count": 22,
   "metadata": {},
   "outputs": [],
   "source": [
    "df_grupocontrole = df_acaocontrole.query(\"data_retorno > @hoje\")"
   ]
  },
  {
   "cell_type": "code",
   "execution_count": 23,
   "metadata": {},
   "outputs": [
    {
     "data": {
      "text/plain": [
       "(900, 11)"
      ]
     },
     "execution_count": 23,
     "metadata": {},
     "output_type": "execute_result"
    }
   ],
   "source": [
    "df_grupocontrole.shape"
   ]
  },
  {
   "cell_type": "code",
   "execution_count": 24,
   "metadata": {},
   "outputs": [
    {
     "name": "stderr",
     "output_type": "stream",
     "text": [
      "C:\\Users\\bagat\\AppData\\Local\\Temp\\ipykernel_14860\\2171134396.py:1: SettingWithCopyWarning: \n",
      "A value is trying to be set on a copy of a slice from a DataFrame.\n",
      "Try using .loc[row_indexer,col_indexer] = value instead\n",
      "\n",
      "See the caveats in the documentation: https://pandas.pydata.org/pandas-docs/stable/user_guide/indexing.html#returning-a-view-versus-a-copy\n",
      "  df_grupocontrole['data_inicio_protesto'] = pd.to_datetime(df_grupocontrole['data_inicio_protesto'])\n",
      "C:\\Users\\bagat\\AppData\\Local\\Temp\\ipykernel_14860\\2171134396.py:3: SettingWithCopyWarning: \n",
      "A value is trying to be set on a copy of a slice from a DataFrame.\n",
      "Try using .loc[row_indexer,col_indexer] = value instead\n",
      "\n",
      "See the caveats in the documentation: https://pandas.pydata.org/pandas-docs/stable/user_guide/indexing.html#returning-a-view-versus-a-copy\n",
      "  df_grupocontrole['diferenca_dias'] = (dt.datetime.today() - df_grupocontrole['data_inicio_protesto']).dt.days\n"
     ]
    }
   ],
   "source": [
    "df_grupocontrole['data_inicio_protesto'] = pd.to_datetime(df_grupocontrole['data_inicio_protesto'])\n",
    "\n",
    "df_grupocontrole['diferenca_dias'] = (dt.datetime.today() - df_grupocontrole['data_inicio_protesto']).dt.days"
   ]
  },
  {
   "cell_type": "code",
   "execution_count": 25,
   "metadata": {},
   "outputs": [
    {
     "data": {
      "text/html": [
       "<div>\n",
       "<style scoped>\n",
       "    .dataframe tbody tr th:only-of-type {\n",
       "        vertical-align: middle;\n",
       "    }\n",
       "\n",
       "    .dataframe tbody tr th {\n",
       "        vertical-align: top;\n",
       "    }\n",
       "\n",
       "    .dataframe thead th {\n",
       "        text-align: right;\n",
       "    }\n",
       "</style>\n",
       "<table border=\"1\" class=\"dataframe\">\n",
       "  <thead>\n",
       "    <tr style=\"text-align: right;\">\n",
       "      <th></th>\n",
       "      <th>loan_id</th>\n",
       "      <th>diferenca_dias</th>\n",
       "    </tr>\n",
       "  </thead>\n",
       "  <tbody>\n",
       "    <tr>\n",
       "      <th>12042</th>\n",
       "      <td>13671480</td>\n",
       "      <td>29</td>\n",
       "    </tr>\n",
       "    <tr>\n",
       "      <th>12043</th>\n",
       "      <td>26756869</td>\n",
       "      <td>29</td>\n",
       "    </tr>\n",
       "    <tr>\n",
       "      <th>12044</th>\n",
       "      <td>24800071</td>\n",
       "      <td>29</td>\n",
       "    </tr>\n",
       "    <tr>\n",
       "      <th>12045</th>\n",
       "      <td>23456816</td>\n",
       "      <td>29</td>\n",
       "    </tr>\n",
       "    <tr>\n",
       "      <th>12046</th>\n",
       "      <td>23810069</td>\n",
       "      <td>29</td>\n",
       "    </tr>\n",
       "    <tr>\n",
       "      <th>...</th>\n",
       "      <td>...</td>\n",
       "      <td>...</td>\n",
       "    </tr>\n",
       "    <tr>\n",
       "      <th>12937</th>\n",
       "      <td>24727221</td>\n",
       "      <td>29</td>\n",
       "    </tr>\n",
       "    <tr>\n",
       "      <th>12938</th>\n",
       "      <td>24816841</td>\n",
       "      <td>29</td>\n",
       "    </tr>\n",
       "    <tr>\n",
       "      <th>12939</th>\n",
       "      <td>15654848</td>\n",
       "      <td>29</td>\n",
       "    </tr>\n",
       "    <tr>\n",
       "      <th>12940</th>\n",
       "      <td>18649915</td>\n",
       "      <td>29</td>\n",
       "    </tr>\n",
       "    <tr>\n",
       "      <th>12941</th>\n",
       "      <td>7198980</td>\n",
       "      <td>29</td>\n",
       "    </tr>\n",
       "  </tbody>\n",
       "</table>\n",
       "<p>900 rows × 2 columns</p>\n",
       "</div>"
      ],
      "text/plain": [
       "        loan_id  diferenca_dias\n",
       "12042  13671480              29\n",
       "12043  26756869              29\n",
       "12044  24800071              29\n",
       "12045  23456816              29\n",
       "12046  23810069              29\n",
       "...         ...             ...\n",
       "12937  24727221              29\n",
       "12938  24816841              29\n",
       "12939  15654848              29\n",
       "12940  18649915              29\n",
       "12941   7198980              29\n",
       "\n",
       "[900 rows x 2 columns]"
      ]
     },
     "execution_count": 25,
     "metadata": {},
     "output_type": "execute_result"
    }
   ],
   "source": [
    "df_grupocontrole[['loan_id','diferenca_dias']]"
   ]
  },
  {
   "cell_type": "code",
   "execution_count": 26,
   "metadata": {},
   "outputs": [],
   "source": [
    "df_grupocontrole1 = df_grupocontrole.sort_values(by='diferenca_dias', ascending=True)\n",
    "\n",
    "df_grupocontrole1 = df_grupocontrole1.drop_duplicates(subset='loan_id')"
   ]
  },
  {
   "cell_type": "code",
   "execution_count": 27,
   "metadata": {},
   "outputs": [
    {
     "data": {
      "text/html": [
       "<div>\n",
       "<style scoped>\n",
       "    .dataframe tbody tr th:only-of-type {\n",
       "        vertical-align: middle;\n",
       "    }\n",
       "\n",
       "    .dataframe tbody tr th {\n",
       "        vertical-align: top;\n",
       "    }\n",
       "\n",
       "    .dataframe thead th {\n",
       "        text-align: right;\n",
       "    }\n",
       "</style>\n",
       "<table border=\"1\" class=\"dataframe\">\n",
       "  <thead>\n",
       "    <tr style=\"text-align: right;\">\n",
       "      <th></th>\n",
       "      <th>loan_id</th>\n",
       "      <th>diferenca_dias</th>\n",
       "    </tr>\n",
       "  </thead>\n",
       "  <tbody>\n",
       "    <tr>\n",
       "      <th>12042</th>\n",
       "      <td>13671480</td>\n",
       "      <td>29</td>\n",
       "    </tr>\n",
       "    <tr>\n",
       "      <th>12635</th>\n",
       "      <td>24211213</td>\n",
       "      <td>29</td>\n",
       "    </tr>\n",
       "    <tr>\n",
       "      <th>12636</th>\n",
       "      <td>24864139</td>\n",
       "      <td>29</td>\n",
       "    </tr>\n",
       "    <tr>\n",
       "      <th>12637</th>\n",
       "      <td>24500174</td>\n",
       "      <td>29</td>\n",
       "    </tr>\n",
       "    <tr>\n",
       "      <th>12638</th>\n",
       "      <td>24834695</td>\n",
       "      <td>29</td>\n",
       "    </tr>\n",
       "    <tr>\n",
       "      <th>...</th>\n",
       "      <td>...</td>\n",
       "      <td>...</td>\n",
       "    </tr>\n",
       "    <tr>\n",
       "      <th>12346</th>\n",
       "      <td>24654173</td>\n",
       "      <td>29</td>\n",
       "    </tr>\n",
       "    <tr>\n",
       "      <th>12347</th>\n",
       "      <td>25902440</td>\n",
       "      <td>29</td>\n",
       "    </tr>\n",
       "    <tr>\n",
       "      <th>12348</th>\n",
       "      <td>25986768</td>\n",
       "      <td>29</td>\n",
       "    </tr>\n",
       "    <tr>\n",
       "      <th>12378</th>\n",
       "      <td>20390880</td>\n",
       "      <td>29</td>\n",
       "    </tr>\n",
       "    <tr>\n",
       "      <th>12941</th>\n",
       "      <td>7198980</td>\n",
       "      <td>29</td>\n",
       "    </tr>\n",
       "  </tbody>\n",
       "</table>\n",
       "<p>900 rows × 2 columns</p>\n",
       "</div>"
      ],
      "text/plain": [
       "        loan_id  diferenca_dias\n",
       "12042  13671480              29\n",
       "12635  24211213              29\n",
       "12636  24864139              29\n",
       "12637  24500174              29\n",
       "12638  24834695              29\n",
       "...         ...             ...\n",
       "12346  24654173              29\n",
       "12347  25902440              29\n",
       "12348  25986768              29\n",
       "12378  20390880              29\n",
       "12941   7198980              29\n",
       "\n",
       "[900 rows x 2 columns]"
      ]
     },
     "execution_count": 27,
     "metadata": {},
     "output_type": "execute_result"
    }
   ],
   "source": [
    "df_grupocontrole1[['loan_id','diferenca_dias']]"
   ]
  },
  {
   "cell_type": "code",
   "execution_count": 28,
   "metadata": {},
   "outputs": [],
   "source": [
    "df_grupocontrole1.drop(columns='diferenca_dias', inplace=True)"
   ]
  },
  {
   "cell_type": "code",
   "execution_count": 29,
   "metadata": {},
   "outputs": [
    {
     "data": {
      "text/plain": [
       "(900, 11)"
      ]
     },
     "execution_count": 29,
     "metadata": {},
     "output_type": "execute_result"
    }
   ],
   "source": [
    "df_grupocontrole1.shape"
   ]
  },
  {
   "cell_type": "code",
   "execution_count": 30,
   "metadata": {},
   "outputs": [],
   "source": [
    "df_grupocontrole1['flag_controle'] = '1'"
   ]
  },
  {
   "cell_type": "code",
   "execution_count": 31,
   "metadata": {},
   "outputs": [],
   "source": [
    "df_grupocontrole1 = df_grupocontrole1.loc[:,['loan_id','flag_controle','grupo']]"
   ]
  },
  {
   "cell_type": "code",
   "execution_count": 32,
   "metadata": {},
   "outputs": [
    {
     "data": {
      "text/plain": [
       "(57483, 71)"
      ]
     },
     "execution_count": 32,
     "metadata": {},
     "output_type": "execute_result"
    }
   ],
   "source": [
    "df.shape"
   ]
  },
  {
   "cell_type": "code",
   "execution_count": 33,
   "metadata": {},
   "outputs": [],
   "source": [
    "df = pd.merge(df,df_grupocontrole1,how='left', on='loan_id')"
   ]
  },
  {
   "cell_type": "code",
   "execution_count": 34,
   "metadata": {},
   "outputs": [
    {
     "data": {
      "text/plain": [
       "(57483, 73)"
      ]
     },
     "execution_count": 34,
     "metadata": {},
     "output_type": "execute_result"
    }
   ],
   "source": [
    "df.shape"
   ]
  },
  {
   "cell_type": "code",
   "execution_count": 35,
   "metadata": {},
   "outputs": [
    {
     "data": {
      "text/html": [
       "<div>\n",
       "<style scoped>\n",
       "    .dataframe tbody tr th:only-of-type {\n",
       "        vertical-align: middle;\n",
       "    }\n",
       "\n",
       "    .dataframe tbody tr th {\n",
       "        vertical-align: top;\n",
       "    }\n",
       "\n",
       "    .dataframe thead th {\n",
       "        text-align: right;\n",
       "    }\n",
       "</style>\n",
       "<table border=\"1\" class=\"dataframe\">\n",
       "  <thead>\n",
       "    <tr style=\"text-align: right;\">\n",
       "      <th></th>\n",
       "      <th>dt_ref</th>\n",
       "      <th>borrower_id</th>\n",
       "      <th>loan_id</th>\n",
       "      <th>CPF</th>\n",
       "      <th>lecca_id</th>\n",
       "      <th>reference_date</th>\n",
       "      <th>safra</th>\n",
       "      <th>safra_reparc</th>\n",
       "      <th>conditions</th>\n",
       "      <th>cluster</th>\n",
       "      <th>...</th>\n",
       "      <th>flag_protesto</th>\n",
       "      <th>flag_parcela</th>\n",
       "      <th>estado</th>\n",
       "      <th>regiao</th>\n",
       "      <th>custo</th>\n",
       "      <th>grupo_controle</th>\n",
       "      <th>acao_controle</th>\n",
       "      <th>retorno</th>\n",
       "      <th>flag_controle</th>\n",
       "      <th>grupo</th>\n",
       "    </tr>\n",
       "  </thead>\n",
       "  <tbody>\n",
       "    <tr>\n",
       "      <th>0</th>\n",
       "      <td>202404</td>\n",
       "      <td>4955621</td>\n",
       "      <td>23488783</td>\n",
       "      <td>3690846595</td>\n",
       "      <td>9632570.0</td>\n",
       "      <td>2024-04-01</td>\n",
       "      <td>2023-08-01</td>\n",
       "      <td>-</td>\n",
       "      <td>original</td>\n",
       "      <td>demais</td>\n",
       "      <td>...</td>\n",
       "      <td>0</td>\n",
       "      <td>=&lt;300</td>\n",
       "      <td>SE</td>\n",
       "      <td>Nordeste</td>\n",
       "      <td>9.14</td>\n",
       "      <td></td>\n",
       "      <td></td>\n",
       "      <td></td>\n",
       "      <td>NaN</td>\n",
       "      <td>NaN</td>\n",
       "    </tr>\n",
       "    <tr>\n",
       "      <th>1</th>\n",
       "      <td>202404</td>\n",
       "      <td>3730893</td>\n",
       "      <td>19853726</td>\n",
       "      <td>21785286862</td>\n",
       "      <td>4675629.0</td>\n",
       "      <td>2024-04-01</td>\n",
       "      <td>2023-03-01</td>\n",
       "      <td>-</td>\n",
       "      <td>original</td>\n",
       "      <td>pagou_adjusted_value</td>\n",
       "      <td>...</td>\n",
       "      <td>1</td>\n",
       "      <td>&gt;300</td>\n",
       "      <td>SP</td>\n",
       "      <td>Sudeste</td>\n",
       "      <td>3.19</td>\n",
       "      <td></td>\n",
       "      <td></td>\n",
       "      <td></td>\n",
       "      <td>1</td>\n",
       "      <td>acao</td>\n",
       "    </tr>\n",
       "    <tr>\n",
       "      <th>2</th>\n",
       "      <td>202404</td>\n",
       "      <td>3261294</td>\n",
       "      <td>23896506</td>\n",
       "      <td>60350554358</td>\n",
       "      <td>10744377.0</td>\n",
       "      <td>2024-04-01</td>\n",
       "      <td>2023-08-01</td>\n",
       "      <td>-</td>\n",
       "      <td>original</td>\n",
       "      <td>demais</td>\n",
       "      <td>...</td>\n",
       "      <td>1</td>\n",
       "      <td>&gt;300</td>\n",
       "      <td>PA</td>\n",
       "      <td>Norte</td>\n",
       "      <td>9.14</td>\n",
       "      <td></td>\n",
       "      <td></td>\n",
       "      <td></td>\n",
       "      <td>NaN</td>\n",
       "      <td>NaN</td>\n",
       "    </tr>\n",
       "    <tr>\n",
       "      <th>3</th>\n",
       "      <td>202404</td>\n",
       "      <td>8643792</td>\n",
       "      <td>22407538</td>\n",
       "      <td>77023315349</td>\n",
       "      <td>7852121.0</td>\n",
       "      <td>2024-04-01</td>\n",
       "      <td>2023-06-01</td>\n",
       "      <td>2023-11</td>\n",
       "      <td>reparcelamento</td>\n",
       "      <td>demais</td>\n",
       "      <td>...</td>\n",
       "      <td>0</td>\n",
       "      <td>=&lt;300</td>\n",
       "      <td>CE</td>\n",
       "      <td>Nordeste</td>\n",
       "      <td>9.14</td>\n",
       "      <td></td>\n",
       "      <td></td>\n",
       "      <td></td>\n",
       "      <td>NaN</td>\n",
       "      <td>NaN</td>\n",
       "    </tr>\n",
       "    <tr>\n",
       "      <th>4</th>\n",
       "      <td>202404</td>\n",
       "      <td>7682675</td>\n",
       "      <td>23901789</td>\n",
       "      <td>14082808760</td>\n",
       "      <td>10690598.0</td>\n",
       "      <td>2024-04-01</td>\n",
       "      <td>2023-08-01</td>\n",
       "      <td>-</td>\n",
       "      <td>original</td>\n",
       "      <td>demais</td>\n",
       "      <td>...</td>\n",
       "      <td>0</td>\n",
       "      <td>=&lt;300</td>\n",
       "      <td>RJ</td>\n",
       "      <td>Sudeste</td>\n",
       "      <td>9.14</td>\n",
       "      <td></td>\n",
       "      <td></td>\n",
       "      <td></td>\n",
       "      <td>NaN</td>\n",
       "      <td>NaN</td>\n",
       "    </tr>\n",
       "  </tbody>\n",
       "</table>\n",
       "<p>5 rows × 73 columns</p>\n",
       "</div>"
      ],
      "text/plain": [
       "   dt_ref  borrower_id   loan_id          CPF    lecca_id reference_date  \\\n",
       "0  202404      4955621  23488783   3690846595   9632570.0     2024-04-01   \n",
       "1  202404      3730893  19853726  21785286862   4675629.0     2024-04-01   \n",
       "2  202404      3261294  23896506  60350554358  10744377.0     2024-04-01   \n",
       "3  202404      8643792  22407538  77023315349   7852121.0     2024-04-01   \n",
       "4  202404      7682675  23901789  14082808760  10690598.0     2024-04-01   \n",
       "\n",
       "       safra safra_reparc      conditions               cluster  ...  \\\n",
       "0 2023-08-01            -        original                demais  ...   \n",
       "1 2023-03-01            -        original  pagou_adjusted_value  ...   \n",
       "2 2023-08-01            -        original                demais  ...   \n",
       "3 2023-06-01      2023-11  reparcelamento                demais  ...   \n",
       "4 2023-08-01            -        original                demais  ...   \n",
       "\n",
       "   flag_protesto flag_parcela  estado    regiao  custo grupo_controle  \\\n",
       "0              0        =<300      SE  Nordeste   9.14                  \n",
       "1              1         >300      SP   Sudeste   3.19                  \n",
       "2              1         >300      PA     Norte   9.14                  \n",
       "3              0        =<300      CE  Nordeste   9.14                  \n",
       "4              0        =<300      RJ   Sudeste   9.14                  \n",
       "\n",
       "  acao_controle  retorno flag_controle  grupo  \n",
       "0                                  NaN    NaN  \n",
       "1                                    1   acao  \n",
       "2                                  NaN    NaN  \n",
       "3                                  NaN    NaN  \n",
       "4                                  NaN    NaN  \n",
       "\n",
       "[5 rows x 73 columns]"
      ]
     },
     "execution_count": 35,
     "metadata": {},
     "output_type": "execute_result"
    }
   ],
   "source": [
    "df.head(5)"
   ]
  },
  {
   "cell_type": "code",
   "execution_count": 36,
   "metadata": {},
   "outputs": [],
   "source": [
    "#df['flag_controle'].fillna(0, inplace=True)\n",
    "df.fillna({'flag_controle': 0}, inplace=True)\n",
    "df['flag_controle'] = df['flag_controle'].astype(int)\n",
    "\n",
    "df.fillna({'grupo': 0}, inplace=True)"
   ]
  },
  {
   "cell_type": "code",
   "execution_count": 37,
   "metadata": {},
   "outputs": [
    {
     "data": {
      "text/plain": [
       "flag_controle\n",
       "0    56634\n",
       "1      849\n",
       "Name: loan_id, dtype: int64"
      ]
     },
     "execution_count": 37,
     "metadata": {},
     "output_type": "execute_result"
    }
   ],
   "source": [
    "df.groupby('flag_controle')['loan_id'].count()"
   ]
  },
  {
   "cell_type": "code",
   "execution_count": 38,
   "metadata": {},
   "outputs": [],
   "source": [
    "df['grupo_controle'] = df['flag_controle']\n",
    "df['acao_controle'] = df['grupo']"
   ]
  },
  {
   "cell_type": "code",
   "execution_count": 39,
   "metadata": {},
   "outputs": [],
   "source": [
    "df = df.drop(['flag_controle','grupo'], axis=1)"
   ]
  },
  {
   "cell_type": "markdown",
   "metadata": {},
   "source": [
    "Flag retorno"
   ]
  },
  {
   "cell_type": "code",
   "execution_count": 40,
   "metadata": {},
   "outputs": [],
   "source": [
    "df_retorno = df_acaocontrole.query(\"data_retorno <= @hoje\")"
   ]
  },
  {
   "cell_type": "code",
   "execution_count": 41,
   "metadata": {},
   "outputs": [
    {
     "data": {
      "text/plain": [
       "(12042, 11)"
      ]
     },
     "execution_count": 41,
     "metadata": {},
     "output_type": "execute_result"
    }
   ],
   "source": [
    "df_retorno.shape"
   ]
  },
  {
   "cell_type": "code",
   "execution_count": 42,
   "metadata": {},
   "outputs": [
    {
     "name": "stderr",
     "output_type": "stream",
     "text": [
      "C:\\Users\\bagat\\AppData\\Local\\Temp\\ipykernel_14860\\2913227487.py:1: SettingWithCopyWarning: \n",
      "A value is trying to be set on a copy of a slice from a DataFrame.\n",
      "Try using .loc[row_indexer,col_indexer] = value instead\n",
      "\n",
      "See the caveats in the documentation: https://pandas.pydata.org/pandas-docs/stable/user_guide/indexing.html#returning-a-view-versus-a-copy\n",
      "  df_retorno['data_inicio_protesto'] = pd.to_datetime(df_retorno['data_inicio_protesto'])\n",
      "C:\\Users\\bagat\\AppData\\Local\\Temp\\ipykernel_14860\\2913227487.py:3: SettingWithCopyWarning: \n",
      "A value is trying to be set on a copy of a slice from a DataFrame.\n",
      "Try using .loc[row_indexer,col_indexer] = value instead\n",
      "\n",
      "See the caveats in the documentation: https://pandas.pydata.org/pandas-docs/stable/user_guide/indexing.html#returning-a-view-versus-a-copy\n",
      "  df_retorno['diferenca_dias'] = (dt.datetime.today() - df_retorno['data_inicio_protesto']).dt.days\n"
     ]
    }
   ],
   "source": [
    "df_retorno['data_inicio_protesto'] = pd.to_datetime(df_retorno['data_inicio_protesto'])\n",
    "\n",
    "df_retorno['diferenca_dias'] = (dt.datetime.today() - df_retorno['data_inicio_protesto']).dt.days"
   ]
  },
  {
   "cell_type": "code",
   "execution_count": 43,
   "metadata": {},
   "outputs": [
    {
     "data": {
      "text/html": [
       "<div>\n",
       "<style scoped>\n",
       "    .dataframe tbody tr th:only-of-type {\n",
       "        vertical-align: middle;\n",
       "    }\n",
       "\n",
       "    .dataframe tbody tr th {\n",
       "        vertical-align: top;\n",
       "    }\n",
       "\n",
       "    .dataframe thead th {\n",
       "        text-align: right;\n",
       "    }\n",
       "</style>\n",
       "<table border=\"1\" class=\"dataframe\">\n",
       "  <thead>\n",
       "    <tr style=\"text-align: right;\">\n",
       "      <th></th>\n",
       "      <th>loan_id</th>\n",
       "      <th>borrower_id</th>\n",
       "      <th>late_category_expandida_noverde_atual</th>\n",
       "      <th>estado</th>\n",
       "      <th>regiao</th>\n",
       "      <th>semana</th>\n",
       "      <th>data_inicio_protesto</th>\n",
       "      <th>data_retorno</th>\n",
       "      <th>grupo</th>\n",
       "      <th>custo_protesto</th>\n",
       "      <th>mot_fidc</th>\n",
       "      <th>diferenca_dias</th>\n",
       "    </tr>\n",
       "  </thead>\n",
       "  <tbody>\n",
       "    <tr>\n",
       "      <th>0</th>\n",
       "      <td>15937649</td>\n",
       "      <td>2971790</td>\n",
       "      <td>3 - 60a90</td>\n",
       "      <td>SP</td>\n",
       "      <td>SUDESTE</td>\n",
       "      <td>semana 01</td>\n",
       "      <td>2024-01-09</td>\n",
       "      <td>2024-02-16</td>\n",
       "      <td>controle</td>\n",
       "      <td>3.84</td>\n",
       "      <td>2360,31</td>\n",
       "      <td>102</td>\n",
       "    </tr>\n",
       "    <tr>\n",
       "      <th>1</th>\n",
       "      <td>6711419</td>\n",
       "      <td>2814124</td>\n",
       "      <td>3 - 60a90</td>\n",
       "      <td>BA</td>\n",
       "      <td>NORDESTE</td>\n",
       "      <td>semana 01</td>\n",
       "      <td>2024-01-09</td>\n",
       "      <td>2024-02-16</td>\n",
       "      <td>controle</td>\n",
       "      <td>9.14</td>\n",
       "      <td>695,85</td>\n",
       "      <td>102</td>\n",
       "    </tr>\n",
       "    <tr>\n",
       "      <th>2</th>\n",
       "      <td>23267037</td>\n",
       "      <td>9334658</td>\n",
       "      <td>3 - 60a90</td>\n",
       "      <td>SP</td>\n",
       "      <td>SUDESTE</td>\n",
       "      <td>semana 01</td>\n",
       "      <td>2024-01-09</td>\n",
       "      <td>2024-02-16</td>\n",
       "      <td>acao</td>\n",
       "      <td>3.84</td>\n",
       "      <td>496,47</td>\n",
       "      <td>102</td>\n",
       "    </tr>\n",
       "    <tr>\n",
       "      <th>3</th>\n",
       "      <td>18017258</td>\n",
       "      <td>205021</td>\n",
       "      <td>3 - 60a90</td>\n",
       "      <td>SP</td>\n",
       "      <td>SUDESTE</td>\n",
       "      <td>semana 01</td>\n",
       "      <td>2024-01-09</td>\n",
       "      <td>2024-02-16</td>\n",
       "      <td>controle</td>\n",
       "      <td>3.84</td>\n",
       "      <td>1640,86</td>\n",
       "      <td>102</td>\n",
       "    </tr>\n",
       "    <tr>\n",
       "      <th>4</th>\n",
       "      <td>22838906</td>\n",
       "      <td>6031564</td>\n",
       "      <td>3 - 60a90</td>\n",
       "      <td>SP</td>\n",
       "      <td>SUDESTE</td>\n",
       "      <td>semana 01</td>\n",
       "      <td>2024-01-09</td>\n",
       "      <td>2024-02-16</td>\n",
       "      <td>controle</td>\n",
       "      <td>3.84</td>\n",
       "      <td>669,83</td>\n",
       "      <td>102</td>\n",
       "    </tr>\n",
       "  </tbody>\n",
       "</table>\n",
       "</div>"
      ],
      "text/plain": [
       "    loan_id  borrower_id late_category_expandida_noverde_atual estado  \\\n",
       "0  15937649      2971790                             3 - 60a90     SP   \n",
       "1   6711419      2814124                             3 - 60a90     BA   \n",
       "2  23267037      9334658                             3 - 60a90     SP   \n",
       "3  18017258       205021                             3 - 60a90     SP   \n",
       "4  22838906      6031564                             3 - 60a90     SP   \n",
       "\n",
       "     regiao     semana data_inicio_protesto data_retorno     grupo  \\\n",
       "0   SUDESTE  semana 01           2024-01-09   2024-02-16  controle   \n",
       "1  NORDESTE  semana 01           2024-01-09   2024-02-16  controle   \n",
       "2   SUDESTE  semana 01           2024-01-09   2024-02-16      acao   \n",
       "3   SUDESTE  semana 01           2024-01-09   2024-02-16  controle   \n",
       "4   SUDESTE  semana 01           2024-01-09   2024-02-16  controle   \n",
       "\n",
       "  custo_protesto mot_fidc  diferenca_dias  \n",
       "0           3.84  2360,31             102  \n",
       "1           9.14   695,85             102  \n",
       "2           3.84   496,47             102  \n",
       "3           3.84  1640,86             102  \n",
       "4           3.84   669,83             102  "
      ]
     },
     "execution_count": 43,
     "metadata": {},
     "output_type": "execute_result"
    }
   ],
   "source": [
    "df_retorno.head()"
   ]
  },
  {
   "cell_type": "code",
   "execution_count": 44,
   "metadata": {},
   "outputs": [],
   "source": [
    "df_retorno = df_retorno.sort_values(by='diferenca_dias', ascending=True)"
   ]
  },
  {
   "cell_type": "code",
   "execution_count": 45,
   "metadata": {},
   "outputs": [
    {
     "data": {
      "text/html": [
       "<div>\n",
       "<style scoped>\n",
       "    .dataframe tbody tr th:only-of-type {\n",
       "        vertical-align: middle;\n",
       "    }\n",
       "\n",
       "    .dataframe tbody tr th {\n",
       "        vertical-align: top;\n",
       "    }\n",
       "\n",
       "    .dataframe thead th {\n",
       "        text-align: right;\n",
       "    }\n",
       "</style>\n",
       "<table border=\"1\" class=\"dataframe\">\n",
       "  <thead>\n",
       "    <tr style=\"text-align: right;\">\n",
       "      <th></th>\n",
       "      <th>loan_id</th>\n",
       "      <th>borrower_id</th>\n",
       "      <th>late_category_expandida_noverde_atual</th>\n",
       "      <th>estado</th>\n",
       "      <th>regiao</th>\n",
       "      <th>semana</th>\n",
       "      <th>data_inicio_protesto</th>\n",
       "      <th>data_retorno</th>\n",
       "      <th>grupo</th>\n",
       "      <th>custo_protesto</th>\n",
       "      <th>mot_fidc</th>\n",
       "      <th>diferenca_dias</th>\n",
       "    </tr>\n",
       "  </thead>\n",
       "  <tbody>\n",
       "    <tr>\n",
       "      <th>12041</th>\n",
       "      <td>20413380</td>\n",
       "      <td>8391895</td>\n",
       "      <td>5 - 120a150</td>\n",
       "      <td>SP</td>\n",
       "      <td>SUDESTE</td>\n",
       "      <td>semana 08</td>\n",
       "      <td>2024-03-15</td>\n",
       "      <td>2024-04-15</td>\n",
       "      <td>controle</td>\n",
       "      <td>3,84</td>\n",
       "      <td>6566,39</td>\n",
       "      <td>36</td>\n",
       "    </tr>\n",
       "    <tr>\n",
       "      <th>10767</th>\n",
       "      <td>26315348</td>\n",
       "      <td>2598884</td>\n",
       "      <td>3 - 60a90</td>\n",
       "      <td>GO</td>\n",
       "      <td>CENTRO-OESTE</td>\n",
       "      <td>semana 08</td>\n",
       "      <td>2024-03-15</td>\n",
       "      <td>2024-04-15</td>\n",
       "      <td>acao</td>\n",
       "      <td>9,14</td>\n",
       "      <td>1166,79</td>\n",
       "      <td>36</td>\n",
       "    </tr>\n",
       "    <tr>\n",
       "      <th>10768</th>\n",
       "      <td>26581829</td>\n",
       "      <td>12110391</td>\n",
       "      <td>3 - 60a90</td>\n",
       "      <td>PR</td>\n",
       "      <td>SUL</td>\n",
       "      <td>semana 08</td>\n",
       "      <td>2024-03-15</td>\n",
       "      <td>2024-04-15</td>\n",
       "      <td>controle</td>\n",
       "      <td>9,14</td>\n",
       "      <td>936,15</td>\n",
       "      <td>36</td>\n",
       "    </tr>\n",
       "    <tr>\n",
       "      <th>10769</th>\n",
       "      <td>26898353</td>\n",
       "      <td>12218607</td>\n",
       "      <td>3 - 60a90</td>\n",
       "      <td>SP</td>\n",
       "      <td>SUDESTE</td>\n",
       "      <td>semana 08</td>\n",
       "      <td>2024-03-15</td>\n",
       "      <td>2024-04-15</td>\n",
       "      <td>acao</td>\n",
       "      <td>3,84</td>\n",
       "      <td>1303,14</td>\n",
       "      <td>36</td>\n",
       "    </tr>\n",
       "    <tr>\n",
       "      <th>10770</th>\n",
       "      <td>26378631</td>\n",
       "      <td>12054315</td>\n",
       "      <td>3 - 60a90</td>\n",
       "      <td>SP</td>\n",
       "      <td>SUDESTE</td>\n",
       "      <td>semana 08</td>\n",
       "      <td>2024-03-15</td>\n",
       "      <td>2024-04-15</td>\n",
       "      <td>controle</td>\n",
       "      <td>3,84</td>\n",
       "      <td>911,79</td>\n",
       "      <td>36</td>\n",
       "    </tr>\n",
       "  </tbody>\n",
       "</table>\n",
       "</div>"
      ],
      "text/plain": [
       "        loan_id  borrower_id late_category_expandida_noverde_atual estado  \\\n",
       "12041  20413380      8391895                           5 - 120a150     SP   \n",
       "10767  26315348      2598884                             3 - 60a90     GO   \n",
       "10768  26581829     12110391                             3 - 60a90     PR   \n",
       "10769  26898353     12218607                             3 - 60a90     SP   \n",
       "10770  26378631     12054315                             3 - 60a90     SP   \n",
       "\n",
       "             regiao     semana data_inicio_protesto data_retorno     grupo  \\\n",
       "12041       SUDESTE  semana 08           2024-03-15   2024-04-15  controle   \n",
       "10767  CENTRO-OESTE  semana 08           2024-03-15   2024-04-15      acao   \n",
       "10768           SUL  semana 08           2024-03-15   2024-04-15  controle   \n",
       "10769       SUDESTE  semana 08           2024-03-15   2024-04-15      acao   \n",
       "10770       SUDESTE  semana 08           2024-03-15   2024-04-15  controle   \n",
       "\n",
       "      custo_protesto mot_fidc  diferenca_dias  \n",
       "12041           3,84  6566,39              36  \n",
       "10767           9,14  1166,79              36  \n",
       "10768           9,14   936,15              36  \n",
       "10769           3,84  1303,14              36  \n",
       "10770           3,84   911,79              36  "
      ]
     },
     "execution_count": 45,
     "metadata": {},
     "output_type": "execute_result"
    }
   ],
   "source": [
    "df_retorno.head()"
   ]
  },
  {
   "cell_type": "code",
   "execution_count": 46,
   "metadata": {},
   "outputs": [],
   "source": [
    "df_retorno = df_retorno.drop_duplicates(subset='loan_id')\n",
    "\n",
    "df_retorno.drop(columns='diferenca_dias', inplace=True)"
   ]
  },
  {
   "cell_type": "code",
   "execution_count": 47,
   "metadata": {},
   "outputs": [
    {
     "data": {
      "text/plain": [
       "(9131, 11)"
      ]
     },
     "execution_count": 47,
     "metadata": {},
     "output_type": "execute_result"
    }
   ],
   "source": [
    "df_retorno.shape"
   ]
  },
  {
   "cell_type": "code",
   "execution_count": 48,
   "metadata": {},
   "outputs": [
    {
     "data": {
      "text/html": [
       "<div>\n",
       "<style scoped>\n",
       "    .dataframe tbody tr th:only-of-type {\n",
       "        vertical-align: middle;\n",
       "    }\n",
       "\n",
       "    .dataframe tbody tr th {\n",
       "        vertical-align: top;\n",
       "    }\n",
       "\n",
       "    .dataframe thead th {\n",
       "        text-align: right;\n",
       "    }\n",
       "</style>\n",
       "<table border=\"1\" class=\"dataframe\">\n",
       "  <thead>\n",
       "    <tr style=\"text-align: right;\">\n",
       "      <th></th>\n",
       "      <th>loan_id</th>\n",
       "      <th>borrower_id</th>\n",
       "      <th>late_category_expandida_noverde_atual</th>\n",
       "      <th>estado</th>\n",
       "      <th>regiao</th>\n",
       "      <th>semana</th>\n",
       "      <th>data_inicio_protesto</th>\n",
       "      <th>data_retorno</th>\n",
       "      <th>grupo</th>\n",
       "      <th>custo_protesto</th>\n",
       "      <th>mot_fidc</th>\n",
       "    </tr>\n",
       "  </thead>\n",
       "  <tbody>\n",
       "    <tr>\n",
       "      <th>12041</th>\n",
       "      <td>20413380</td>\n",
       "      <td>8391895</td>\n",
       "      <td>5 - 120a150</td>\n",
       "      <td>SP</td>\n",
       "      <td>SUDESTE</td>\n",
       "      <td>semana 08</td>\n",
       "      <td>2024-03-15</td>\n",
       "      <td>2024-04-15</td>\n",
       "      <td>controle</td>\n",
       "      <td>3,84</td>\n",
       "      <td>6566,39</td>\n",
       "    </tr>\n",
       "    <tr>\n",
       "      <th>10767</th>\n",
       "      <td>26315348</td>\n",
       "      <td>2598884</td>\n",
       "      <td>3 - 60a90</td>\n",
       "      <td>GO</td>\n",
       "      <td>CENTRO-OESTE</td>\n",
       "      <td>semana 08</td>\n",
       "      <td>2024-03-15</td>\n",
       "      <td>2024-04-15</td>\n",
       "      <td>acao</td>\n",
       "      <td>9,14</td>\n",
       "      <td>1166,79</td>\n",
       "    </tr>\n",
       "    <tr>\n",
       "      <th>10768</th>\n",
       "      <td>26581829</td>\n",
       "      <td>12110391</td>\n",
       "      <td>3 - 60a90</td>\n",
       "      <td>PR</td>\n",
       "      <td>SUL</td>\n",
       "      <td>semana 08</td>\n",
       "      <td>2024-03-15</td>\n",
       "      <td>2024-04-15</td>\n",
       "      <td>controle</td>\n",
       "      <td>9,14</td>\n",
       "      <td>936,15</td>\n",
       "    </tr>\n",
       "    <tr>\n",
       "      <th>10769</th>\n",
       "      <td>26898353</td>\n",
       "      <td>12218607</td>\n",
       "      <td>3 - 60a90</td>\n",
       "      <td>SP</td>\n",
       "      <td>SUDESTE</td>\n",
       "      <td>semana 08</td>\n",
       "      <td>2024-03-15</td>\n",
       "      <td>2024-04-15</td>\n",
       "      <td>acao</td>\n",
       "      <td>3,84</td>\n",
       "      <td>1303,14</td>\n",
       "    </tr>\n",
       "    <tr>\n",
       "      <th>10770</th>\n",
       "      <td>26378631</td>\n",
       "      <td>12054315</td>\n",
       "      <td>3 - 60a90</td>\n",
       "      <td>SP</td>\n",
       "      <td>SUDESTE</td>\n",
       "      <td>semana 08</td>\n",
       "      <td>2024-03-15</td>\n",
       "      <td>2024-04-15</td>\n",
       "      <td>controle</td>\n",
       "      <td>3,84</td>\n",
       "      <td>911,79</td>\n",
       "    </tr>\n",
       "  </tbody>\n",
       "</table>\n",
       "</div>"
      ],
      "text/plain": [
       "        loan_id  borrower_id late_category_expandida_noverde_atual estado  \\\n",
       "12041  20413380      8391895                           5 - 120a150     SP   \n",
       "10767  26315348      2598884                             3 - 60a90     GO   \n",
       "10768  26581829     12110391                             3 - 60a90     PR   \n",
       "10769  26898353     12218607                             3 - 60a90     SP   \n",
       "10770  26378631     12054315                             3 - 60a90     SP   \n",
       "\n",
       "             regiao     semana data_inicio_protesto data_retorno     grupo  \\\n",
       "12041       SUDESTE  semana 08           2024-03-15   2024-04-15  controle   \n",
       "10767  CENTRO-OESTE  semana 08           2024-03-15   2024-04-15      acao   \n",
       "10768           SUL  semana 08           2024-03-15   2024-04-15  controle   \n",
       "10769       SUDESTE  semana 08           2024-03-15   2024-04-15      acao   \n",
       "10770       SUDESTE  semana 08           2024-03-15   2024-04-15  controle   \n",
       "\n",
       "      custo_protesto mot_fidc  \n",
       "12041           3,84  6566,39  \n",
       "10767           9,14  1166,79  \n",
       "10768           9,14   936,15  \n",
       "10769           3,84  1303,14  \n",
       "10770           3,84   911,79  "
      ]
     },
     "execution_count": 48,
     "metadata": {},
     "output_type": "execute_result"
    }
   ],
   "source": [
    "df_retorno.head()"
   ]
  },
  {
   "cell_type": "code",
   "execution_count": 49,
   "metadata": {},
   "outputs": [],
   "source": [
    "df_retorno = df_retorno.loc[:,['loan_id','data_retorno','semana']]"
   ]
  },
  {
   "cell_type": "code",
   "execution_count": 50,
   "metadata": {},
   "outputs": [
    {
     "data": {
      "text/html": [
       "<div>\n",
       "<style scoped>\n",
       "    .dataframe tbody tr th:only-of-type {\n",
       "        vertical-align: middle;\n",
       "    }\n",
       "\n",
       "    .dataframe tbody tr th {\n",
       "        vertical-align: top;\n",
       "    }\n",
       "\n",
       "    .dataframe thead th {\n",
       "        text-align: right;\n",
       "    }\n",
       "</style>\n",
       "<table border=\"1\" class=\"dataframe\">\n",
       "  <thead>\n",
       "    <tr style=\"text-align: right;\">\n",
       "      <th></th>\n",
       "      <th>loan_id</th>\n",
       "      <th>data_retorno</th>\n",
       "      <th>semana</th>\n",
       "    </tr>\n",
       "  </thead>\n",
       "  <tbody>\n",
       "    <tr>\n",
       "      <th>12041</th>\n",
       "      <td>20413380</td>\n",
       "      <td>2024-04-15</td>\n",
       "      <td>semana 08</td>\n",
       "    </tr>\n",
       "    <tr>\n",
       "      <th>10767</th>\n",
       "      <td>26315348</td>\n",
       "      <td>2024-04-15</td>\n",
       "      <td>semana 08</td>\n",
       "    </tr>\n",
       "    <tr>\n",
       "      <th>10768</th>\n",
       "      <td>26581829</td>\n",
       "      <td>2024-04-15</td>\n",
       "      <td>semana 08</td>\n",
       "    </tr>\n",
       "  </tbody>\n",
       "</table>\n",
       "</div>"
      ],
      "text/plain": [
       "        loan_id data_retorno     semana\n",
       "12041  20413380   2024-04-15  semana 08\n",
       "10767  26315348   2024-04-15  semana 08\n",
       "10768  26581829   2024-04-15  semana 08"
      ]
     },
     "execution_count": 50,
     "metadata": {},
     "output_type": "execute_result"
    }
   ],
   "source": [
    "df_retorno.head(3)"
   ]
  },
  {
   "cell_type": "code",
   "execution_count": 51,
   "metadata": {},
   "outputs": [
    {
     "data": {
      "text/plain": [
       "(57483, 71)"
      ]
     },
     "execution_count": 51,
     "metadata": {},
     "output_type": "execute_result"
    }
   ],
   "source": [
    "df.shape"
   ]
  },
  {
   "cell_type": "code",
   "execution_count": 52,
   "metadata": {},
   "outputs": [],
   "source": [
    "df = pd.merge(df,df_retorno, how='left', on='loan_id')"
   ]
  },
  {
   "cell_type": "code",
   "execution_count": 53,
   "metadata": {},
   "outputs": [
    {
     "data": {
      "text/plain": [
       "(57483, 73)"
      ]
     },
     "execution_count": 53,
     "metadata": {},
     "output_type": "execute_result"
    }
   ],
   "source": [
    "df.shape"
   ]
  },
  {
   "cell_type": "code",
   "execution_count": 54,
   "metadata": {},
   "outputs": [],
   "source": [
    "df['retorno'] = df['semana']\n",
    "df['retorno'].fillna(0, inplace=True)"
   ]
  },
  {
   "cell_type": "code",
   "execution_count": 55,
   "metadata": {},
   "outputs": [],
   "source": [
    "df = df.drop(['data_retorno','semana'], axis=1)"
   ]
  },
  {
   "cell_type": "markdown",
   "metadata": {},
   "source": [
    "Filtrando faixas de atraso"
   ]
  },
  {
   "cell_type": "code",
   "execution_count": 56,
   "metadata": {},
   "outputs": [],
   "source": [
    "atraso = ['3 - 60a90', '4 - 90a120', '5 - 120a150']\n",
    "df_final = df[df['late_category_expandida_noverde_atual'].isin(atraso)]"
   ]
  },
  {
   "cell_type": "code",
   "execution_count": 57,
   "metadata": {},
   "outputs": [
    {
     "data": {
      "text/plain": [
       "(21158, 71)"
      ]
     },
     "execution_count": 57,
     "metadata": {},
     "output_type": "execute_result"
    }
   ],
   "source": [
    "df_final.shape"
   ]
  },
  {
   "cell_type": "markdown",
   "metadata": {},
   "source": [
    "TabDin volumetria"
   ]
  },
  {
   "cell_type": "code",
   "execution_count": 58,
   "metadata": {},
   "outputs": [
    {
     "data": {
      "text/html": [
       "<div>\n",
       "<style scoped>\n",
       "    .dataframe tbody tr th:only-of-type {\n",
       "        vertical-align: middle;\n",
       "    }\n",
       "\n",
       "    .dataframe tbody tr th {\n",
       "        vertical-align: top;\n",
       "    }\n",
       "\n",
       "    .dataframe thead th {\n",
       "        text-align: right;\n",
       "    }\n",
       "</style>\n",
       "<table border=\"1\" class=\"dataframe\">\n",
       "  <thead>\n",
       "    <tr style=\"text-align: right;\">\n",
       "      <th>flag_protesto</th>\n",
       "      <th>0</th>\n",
       "      <th>1</th>\n",
       "      <th>Total</th>\n",
       "    </tr>\n",
       "    <tr>\n",
       "      <th>late_category_expandida_noverde_atual</th>\n",
       "      <th></th>\n",
       "      <th></th>\n",
       "      <th></th>\n",
       "    </tr>\n",
       "  </thead>\n",
       "  <tbody>\n",
       "    <tr>\n",
       "      <th>3 - 60a90</th>\n",
       "      <td>7460</td>\n",
       "      <td>924</td>\n",
       "      <td>8384</td>\n",
       "    </tr>\n",
       "    <tr>\n",
       "      <th>4 - 90a120</th>\n",
       "      <td>5118</td>\n",
       "      <td>1601</td>\n",
       "      <td>6719</td>\n",
       "    </tr>\n",
       "    <tr>\n",
       "      <th>5 - 120a150</th>\n",
       "      <td>4310</td>\n",
       "      <td>1745</td>\n",
       "      <td>6055</td>\n",
       "    </tr>\n",
       "    <tr>\n",
       "      <th>Total</th>\n",
       "      <td>16888</td>\n",
       "      <td>4270</td>\n",
       "      <td>21158</td>\n",
       "    </tr>\n",
       "  </tbody>\n",
       "</table>\n",
       "</div>"
      ],
      "text/plain": [
       "flag_protesto                              0     1  Total\n",
       "late_category_expandida_noverde_atual                    \n",
       "3 - 60a90                               7460   924   8384\n",
       "4 - 90a120                              5118  1601   6719\n",
       "5 - 120a150                             4310  1745   6055\n",
       "Total                                  16888  4270  21158"
      ]
     },
     "execution_count": 58,
     "metadata": {},
     "output_type": "execute_result"
    }
   ],
   "source": [
    "volumetria = df_final.pivot_table(index='late_category_expandida_noverde_atual', \n",
    "                             columns='flag_protesto', \n",
    "                             values='loan_id', \n",
    "                             aggfunc='count', \n",
    "                             margins=True, \n",
    "                             margins_name='Total')\n",
    "\n",
    "volumetria"
   ]
  },
  {
   "cell_type": "markdown",
   "metadata": {},
   "source": [
    "TabDin grupo controle"
   ]
  },
  {
   "cell_type": "code",
   "execution_count": 59,
   "metadata": {},
   "outputs": [
    {
     "data": {
      "text/plain": [
       "grupo_controle\n",
       "0    20313\n",
       "1      845\n",
       "Name: loan_id, dtype: int64"
      ]
     },
     "execution_count": 59,
     "metadata": {},
     "output_type": "execute_result"
    }
   ],
   "source": [
    "df_final.groupby('grupo_controle')['loan_id'].count()"
   ]
  },
  {
   "cell_type": "code",
   "execution_count": 60,
   "metadata": {},
   "outputs": [],
   "source": [
    "acao_controle = df_final.query(\"grupo_controle == 1\")"
   ]
  },
  {
   "cell_type": "code",
   "execution_count": 61,
   "metadata": {},
   "outputs": [
    {
     "data": {
      "text/html": [
       "<div>\n",
       "<style scoped>\n",
       "    .dataframe tbody tr th:only-of-type {\n",
       "        vertical-align: middle;\n",
       "    }\n",
       "\n",
       "    .dataframe tbody tr th {\n",
       "        vertical-align: top;\n",
       "    }\n",
       "\n",
       "    .dataframe thead th {\n",
       "        text-align: right;\n",
       "    }\n",
       "</style>\n",
       "<table border=\"1\" class=\"dataframe\">\n",
       "  <thead>\n",
       "    <tr style=\"text-align: right;\">\n",
       "      <th>acao_controle</th>\n",
       "      <th>acao</th>\n",
       "      <th>controle</th>\n",
       "      <th>Total</th>\n",
       "    </tr>\n",
       "    <tr>\n",
       "      <th>late_category_expandida_noverde_atual</th>\n",
       "      <th></th>\n",
       "      <th></th>\n",
       "      <th></th>\n",
       "    </tr>\n",
       "  </thead>\n",
       "  <tbody>\n",
       "    <tr>\n",
       "      <th>3 - 60a90</th>\n",
       "      <td>396</td>\n",
       "      <td>412</td>\n",
       "      <td>808</td>\n",
       "    </tr>\n",
       "    <tr>\n",
       "      <th>4 - 90a120</th>\n",
       "      <td>25</td>\n",
       "      <td>8</td>\n",
       "      <td>33</td>\n",
       "    </tr>\n",
       "    <tr>\n",
       "      <th>5 - 120a150</th>\n",
       "      <td>3</td>\n",
       "      <td>1</td>\n",
       "      <td>4</td>\n",
       "    </tr>\n",
       "    <tr>\n",
       "      <th>Total</th>\n",
       "      <td>424</td>\n",
       "      <td>421</td>\n",
       "      <td>845</td>\n",
       "    </tr>\n",
       "  </tbody>\n",
       "</table>\n",
       "</div>"
      ],
      "text/plain": [
       "acao_controle                          acao  controle  Total\n",
       "late_category_expandida_noverde_atual                       \n",
       "3 - 60a90                               396       412    808\n",
       "4 - 90a120                               25         8     33\n",
       "5 - 120a150                               3         1      4\n",
       "Total                                   424       421    845"
      ]
     },
     "execution_count": 61,
     "metadata": {},
     "output_type": "execute_result"
    }
   ],
   "source": [
    "flag_acaocontrole = acao_controle.pivot_table(index='late_category_expandida_noverde_atual', \n",
    "                             columns='acao_controle', \n",
    "                             values='loan_id', \n",
    "                             aggfunc='count', \n",
    "                             margins=True, \n",
    "                             margins_name='Total')\n",
    "\n",
    "flag_acaocontrole"
   ]
  },
  {
   "cell_type": "markdown",
   "metadata": {},
   "source": [
    "TabDin protesto"
   ]
  },
  {
   "cell_type": "code",
   "execution_count": 62,
   "metadata": {},
   "outputs": [],
   "source": [
    "protesto = df_final.query(\"grupo_controle == 0\")"
   ]
  },
  {
   "cell_type": "code",
   "execution_count": 63,
   "metadata": {},
   "outputs": [
    {
     "data": {
      "text/html": [
       "<div>\n",
       "<style scoped>\n",
       "    .dataframe tbody tr th:only-of-type {\n",
       "        vertical-align: middle;\n",
       "    }\n",
       "\n",
       "    .dataframe tbody tr th {\n",
       "        vertical-align: top;\n",
       "    }\n",
       "\n",
       "    .dataframe thead th {\n",
       "        text-align: right;\n",
       "    }\n",
       "</style>\n",
       "<table border=\"1\" class=\"dataframe\">\n",
       "  <thead>\n",
       "    <tr style=\"text-align: right;\">\n",
       "      <th>flag_protesto</th>\n",
       "      <th>0</th>\n",
       "      <th>1</th>\n",
       "      <th>Total</th>\n",
       "    </tr>\n",
       "    <tr>\n",
       "      <th>late_category_expandida_noverde_atual</th>\n",
       "      <th></th>\n",
       "      <th></th>\n",
       "      <th></th>\n",
       "    </tr>\n",
       "  </thead>\n",
       "  <tbody>\n",
       "    <tr>\n",
       "      <th>3 - 60a90</th>\n",
       "      <td>7046</td>\n",
       "      <td>530</td>\n",
       "      <td>7576</td>\n",
       "    </tr>\n",
       "    <tr>\n",
       "      <th>4 - 90a120</th>\n",
       "      <td>5108</td>\n",
       "      <td>1578</td>\n",
       "      <td>6686</td>\n",
       "    </tr>\n",
       "    <tr>\n",
       "      <th>5 - 120a150</th>\n",
       "      <td>4309</td>\n",
       "      <td>1742</td>\n",
       "      <td>6051</td>\n",
       "    </tr>\n",
       "    <tr>\n",
       "      <th>Total</th>\n",
       "      <td>16463</td>\n",
       "      <td>3850</td>\n",
       "      <td>20313</td>\n",
       "    </tr>\n",
       "  </tbody>\n",
       "</table>\n",
       "</div>"
      ],
      "text/plain": [
       "flag_protesto                              0     1  Total\n",
       "late_category_expandida_noverde_atual                    \n",
       "3 - 60a90                               7046   530   7576\n",
       "4 - 90a120                              5108  1578   6686\n",
       "5 - 120a150                             4309  1742   6051\n",
       "Total                                  16463  3850  20313"
      ]
     },
     "execution_count": 63,
     "metadata": {},
     "output_type": "execute_result"
    }
   ],
   "source": [
    "flag_protesto = protesto.pivot_table(index='late_category_expandida_noverde_atual', \n",
    "                             columns='flag_protesto', \n",
    "                             values='loan_id', \n",
    "                             aggfunc='count', \n",
    "                             margins=True, \n",
    "                             margins_name='Total')\n",
    "\n",
    "flag_protesto"
   ]
  },
  {
   "cell_type": "markdown",
   "metadata": {},
   "source": [
    "TabDin acordo a vencer"
   ]
  },
  {
   "cell_type": "code",
   "execution_count": 64,
   "metadata": {},
   "outputs": [],
   "source": [
    "acordoavencer = df_final.query(\"grupo_controle ==0 & flag_protesto==0\")"
   ]
  },
  {
   "cell_type": "code",
   "execution_count": 65,
   "metadata": {},
   "outputs": [
    {
     "data": {
      "text/html": [
       "<div>\n",
       "<style scoped>\n",
       "    .dataframe tbody tr th:only-of-type {\n",
       "        vertical-align: middle;\n",
       "    }\n",
       "\n",
       "    .dataframe tbody tr th {\n",
       "        vertical-align: top;\n",
       "    }\n",
       "\n",
       "    .dataframe thead th {\n",
       "        text-align: right;\n",
       "    }\n",
       "</style>\n",
       "<table border=\"1\" class=\"dataframe\">\n",
       "  <thead>\n",
       "    <tr style=\"text-align: right;\">\n",
       "      <th>acordo_a_vencer</th>\n",
       "      <th>0</th>\n",
       "      <th>1</th>\n",
       "      <th>Total</th>\n",
       "    </tr>\n",
       "    <tr>\n",
       "      <th>late_category_expandida_noverde_atual</th>\n",
       "      <th></th>\n",
       "      <th></th>\n",
       "      <th></th>\n",
       "    </tr>\n",
       "  </thead>\n",
       "  <tbody>\n",
       "    <tr>\n",
       "      <th>3 - 60a90</th>\n",
       "      <td>6868</td>\n",
       "      <td>178</td>\n",
       "      <td>7046</td>\n",
       "    </tr>\n",
       "    <tr>\n",
       "      <th>4 - 90a120</th>\n",
       "      <td>5031</td>\n",
       "      <td>77</td>\n",
       "      <td>5108</td>\n",
       "    </tr>\n",
       "    <tr>\n",
       "      <th>5 - 120a150</th>\n",
       "      <td>4260</td>\n",
       "      <td>49</td>\n",
       "      <td>4309</td>\n",
       "    </tr>\n",
       "    <tr>\n",
       "      <th>Total</th>\n",
       "      <td>16159</td>\n",
       "      <td>304</td>\n",
       "      <td>16463</td>\n",
       "    </tr>\n",
       "  </tbody>\n",
       "</table>\n",
       "</div>"
      ],
      "text/plain": [
       "acordo_a_vencer                            0    1  Total\n",
       "late_category_expandida_noverde_atual                   \n",
       "3 - 60a90                               6868  178   7046\n",
       "4 - 90a120                              5031   77   5108\n",
       "5 - 120a150                             4260   49   4309\n",
       "Total                                  16159  304  16463"
      ]
     },
     "execution_count": 65,
     "metadata": {},
     "output_type": "execute_result"
    }
   ],
   "source": [
    "flag_acordo = acordoavencer.pivot_table(index='late_category_expandida_noverde_atual', \n",
    "                             columns='acordo_a_vencer', \n",
    "                             values='loan_id', \n",
    "                             aggfunc='count', \n",
    "                             margins=True, \n",
    "                             margins_name='Total')\n",
    "\n",
    "flag_acordo"
   ]
  },
  {
   "cell_type": "markdown",
   "metadata": {},
   "source": [
    "TabDin flag parcela"
   ]
  },
  {
   "cell_type": "code",
   "execution_count": 66,
   "metadata": {},
   "outputs": [],
   "source": [
    "parcela = df_final.query(\"grupo_controle == 0 & flag_protesto == 0 & acordo_a_vencer == 0\")"
   ]
  },
  {
   "cell_type": "code",
   "execution_count": 67,
   "metadata": {},
   "outputs": [
    {
     "data": {
      "text/html": [
       "<div>\n",
       "<style scoped>\n",
       "    .dataframe tbody tr th:only-of-type {\n",
       "        vertical-align: middle;\n",
       "    }\n",
       "\n",
       "    .dataframe tbody tr th {\n",
       "        vertical-align: top;\n",
       "    }\n",
       "\n",
       "    .dataframe thead th {\n",
       "        text-align: right;\n",
       "    }\n",
       "</style>\n",
       "<table border=\"1\" class=\"dataframe\">\n",
       "  <thead>\n",
       "    <tr style=\"text-align: right;\">\n",
       "      <th>flag_parcela</th>\n",
       "      <th>=&lt;300</th>\n",
       "      <th>&gt;300</th>\n",
       "      <th>Total</th>\n",
       "    </tr>\n",
       "    <tr>\n",
       "      <th>late_category_expandida_noverde_atual</th>\n",
       "      <th></th>\n",
       "      <th></th>\n",
       "      <th></th>\n",
       "    </tr>\n",
       "  </thead>\n",
       "  <tbody>\n",
       "    <tr>\n",
       "      <th>3 - 60a90</th>\n",
       "      <td>5076</td>\n",
       "      <td>1792</td>\n",
       "      <td>6868</td>\n",
       "    </tr>\n",
       "    <tr>\n",
       "      <th>4 - 90a120</th>\n",
       "      <td>4095</td>\n",
       "      <td>936</td>\n",
       "      <td>5031</td>\n",
       "    </tr>\n",
       "    <tr>\n",
       "      <th>5 - 120a150</th>\n",
       "      <td>3628</td>\n",
       "      <td>632</td>\n",
       "      <td>4260</td>\n",
       "    </tr>\n",
       "    <tr>\n",
       "      <th>Total</th>\n",
       "      <td>12799</td>\n",
       "      <td>3360</td>\n",
       "      <td>16159</td>\n",
       "    </tr>\n",
       "  </tbody>\n",
       "</table>\n",
       "</div>"
      ],
      "text/plain": [
       "flag_parcela                           =<300  >300  Total\n",
       "late_category_expandida_noverde_atual                    \n",
       "3 - 60a90                               5076  1792   6868\n",
       "4 - 90a120                              4095   936   5031\n",
       "5 - 120a150                             3628   632   4260\n",
       "Total                                  12799  3360  16159"
      ]
     },
     "execution_count": 67,
     "metadata": {},
     "output_type": "execute_result"
    }
   ],
   "source": [
    "flag_parcela = parcela.pivot_table(index='late_category_expandida_noverde_atual',\n",
    "                                   columns='flag_parcela',\n",
    "                                   values='loan_id',\n",
    "                                   aggfunc='count',\n",
    "                                   margins=True,\n",
    "                                   margins_name='Total')\n",
    "flag_parcela"
   ]
  },
  {
   "cell_type": "markdown",
   "metadata": {},
   "source": [
    "TabDin semana"
   ]
  },
  {
   "cell_type": "code",
   "execution_count": 68,
   "metadata": {},
   "outputs": [],
   "source": [
    "semana = df_final.query(\"grupo_controle == 0 & flag_protesto == 0 & acordo_a_vencer == 0 & flag_parcela == '>300' & retorno !=0\")"
   ]
  },
  {
   "cell_type": "code",
   "execution_count": 69,
   "metadata": {},
   "outputs": [
    {
     "data": {
      "text/html": [
       "<div>\n",
       "<style scoped>\n",
       "    .dataframe tbody tr th:only-of-type {\n",
       "        vertical-align: middle;\n",
       "    }\n",
       "\n",
       "    .dataframe tbody tr th {\n",
       "        vertical-align: top;\n",
       "    }\n",
       "\n",
       "    .dataframe thead th {\n",
       "        text-align: right;\n",
       "    }\n",
       "</style>\n",
       "<table border=\"1\" class=\"dataframe\">\n",
       "  <thead>\n",
       "    <tr style=\"text-align: right;\">\n",
       "      <th>retorno</th>\n",
       "      <th>semana 01</th>\n",
       "      <th>semana 02</th>\n",
       "      <th>semana 03</th>\n",
       "      <th>semana 04</th>\n",
       "      <th>semana 05</th>\n",
       "      <th>semana 06</th>\n",
       "      <th>semana 07</th>\n",
       "      <th>semana 08</th>\n",
       "      <th>Total</th>\n",
       "    </tr>\n",
       "    <tr>\n",
       "      <th>late_category_expandida_noverde_atual</th>\n",
       "      <th></th>\n",
       "      <th></th>\n",
       "      <th></th>\n",
       "      <th></th>\n",
       "      <th></th>\n",
       "      <th></th>\n",
       "      <th></th>\n",
       "      <th></th>\n",
       "      <th></th>\n",
       "    </tr>\n",
       "  </thead>\n",
       "  <tbody>\n",
       "    <tr>\n",
       "      <th>3 - 60a90</th>\n",
       "      <td>NaN</td>\n",
       "      <td>NaN</td>\n",
       "      <td>1.0</td>\n",
       "      <td>4.0</td>\n",
       "      <td>15.0</td>\n",
       "      <td>21.0</td>\n",
       "      <td>70.0</td>\n",
       "      <td>626.0</td>\n",
       "      <td>737</td>\n",
       "    </tr>\n",
       "    <tr>\n",
       "      <th>4 - 90a120</th>\n",
       "      <td>1.0</td>\n",
       "      <td>NaN</td>\n",
       "      <td>NaN</td>\n",
       "      <td>NaN</td>\n",
       "      <td>2.0</td>\n",
       "      <td>562.0</td>\n",
       "      <td>206.0</td>\n",
       "      <td>164.0</td>\n",
       "      <td>935</td>\n",
       "    </tr>\n",
       "    <tr>\n",
       "      <th>5 - 120a150</th>\n",
       "      <td>1.0</td>\n",
       "      <td>1.0</td>\n",
       "      <td>NaN</td>\n",
       "      <td>1.0</td>\n",
       "      <td>NaN</td>\n",
       "      <td>137.0</td>\n",
       "      <td>392.0</td>\n",
       "      <td>98.0</td>\n",
       "      <td>630</td>\n",
       "    </tr>\n",
       "    <tr>\n",
       "      <th>Total</th>\n",
       "      <td>2.0</td>\n",
       "      <td>1.0</td>\n",
       "      <td>1.0</td>\n",
       "      <td>5.0</td>\n",
       "      <td>17.0</td>\n",
       "      <td>720.0</td>\n",
       "      <td>668.0</td>\n",
       "      <td>888.0</td>\n",
       "      <td>2302</td>\n",
       "    </tr>\n",
       "  </tbody>\n",
       "</table>\n",
       "</div>"
      ],
      "text/plain": [
       "retorno                                semana 01  semana 02  semana 03  \\\n",
       "late_category_expandida_noverde_atual                                    \n",
       "3 - 60a90                                    NaN        NaN        1.0   \n",
       "4 - 90a120                                   1.0        NaN        NaN   \n",
       "5 - 120a150                                  1.0        1.0        NaN   \n",
       "Total                                        2.0        1.0        1.0   \n",
       "\n",
       "retorno                                semana 04  semana 05  semana 06  \\\n",
       "late_category_expandida_noverde_atual                                    \n",
       "3 - 60a90                                    4.0       15.0       21.0   \n",
       "4 - 90a120                                   NaN        2.0      562.0   \n",
       "5 - 120a150                                  1.0        NaN      137.0   \n",
       "Total                                        5.0       17.0      720.0   \n",
       "\n",
       "retorno                                semana 07  semana 08  Total  \n",
       "late_category_expandida_noverde_atual                               \n",
       "3 - 60a90                                   70.0      626.0    737  \n",
       "4 - 90a120                                 206.0      164.0    935  \n",
       "5 - 120a150                                392.0       98.0    630  \n",
       "Total                                      668.0      888.0   2302  "
      ]
     },
     "execution_count": 69,
     "metadata": {},
     "output_type": "execute_result"
    }
   ],
   "source": [
    "flag_semana = semana.pivot_table(index='late_category_expandida_noverde_atual',\n",
    "                                 columns='retorno',\n",
    "                                 values='loan_id',\n",
    "                                 aggfunc='count',\n",
    "                                 margins=True,\n",
    "                                 margins_name='Total')\n",
    "flag_semana"
   ]
  },
  {
   "cell_type": "markdown",
   "metadata": {},
   "source": [
    "TabDin regiao"
   ]
  },
  {
   "cell_type": "code",
   "execution_count": 70,
   "metadata": {},
   "outputs": [],
   "source": [
    "reg = df_final.query(\"grupo_controle == 0 & flag_protesto == 0 & acordo_a_vencer == 0 & flag_parcela == '>300'\")"
   ]
  },
  {
   "cell_type": "code",
   "execution_count": 71,
   "metadata": {},
   "outputs": [
    {
     "data": {
      "text/html": [
       "<div>\n",
       "<style scoped>\n",
       "    .dataframe tbody tr th:only-of-type {\n",
       "        vertical-align: middle;\n",
       "    }\n",
       "\n",
       "    .dataframe tbody tr th {\n",
       "        vertical-align: top;\n",
       "    }\n",
       "\n",
       "    .dataframe thead th {\n",
       "        text-align: right;\n",
       "    }\n",
       "</style>\n",
       "<table border=\"1\" class=\"dataframe\">\n",
       "  <thead>\n",
       "    <tr style=\"text-align: right;\">\n",
       "      <th>regiao</th>\n",
       "      <th>Centro-Oeste</th>\n",
       "      <th>Nordeste</th>\n",
       "      <th>Norte</th>\n",
       "      <th>Sudeste</th>\n",
       "      <th>Sul</th>\n",
       "      <th>Total</th>\n",
       "    </tr>\n",
       "    <tr>\n",
       "      <th>late_category_expandida_noverde_atual</th>\n",
       "      <th></th>\n",
       "      <th></th>\n",
       "      <th></th>\n",
       "      <th></th>\n",
       "      <th></th>\n",
       "      <th></th>\n",
       "    </tr>\n",
       "  </thead>\n",
       "  <tbody>\n",
       "    <tr>\n",
       "      <th>3 - 60a90</th>\n",
       "      <td>231</td>\n",
       "      <td>169</td>\n",
       "      <td>110</td>\n",
       "      <td>953</td>\n",
       "      <td>329</td>\n",
       "      <td>1792</td>\n",
       "    </tr>\n",
       "    <tr>\n",
       "      <th>4 - 90a120</th>\n",
       "      <td>124</td>\n",
       "      <td>95</td>\n",
       "      <td>53</td>\n",
       "      <td>490</td>\n",
       "      <td>174</td>\n",
       "      <td>936</td>\n",
       "    </tr>\n",
       "    <tr>\n",
       "      <th>5 - 120a150</th>\n",
       "      <td>95</td>\n",
       "      <td>59</td>\n",
       "      <td>31</td>\n",
       "      <td>340</td>\n",
       "      <td>107</td>\n",
       "      <td>632</td>\n",
       "    </tr>\n",
       "    <tr>\n",
       "      <th>Total</th>\n",
       "      <td>450</td>\n",
       "      <td>323</td>\n",
       "      <td>194</td>\n",
       "      <td>1783</td>\n",
       "      <td>610</td>\n",
       "      <td>3360</td>\n",
       "    </tr>\n",
       "  </tbody>\n",
       "</table>\n",
       "</div>"
      ],
      "text/plain": [
       "regiao                                 Centro-Oeste  Nordeste  Norte  Sudeste  \\\n",
       "late_category_expandida_noverde_atual                                           \n",
       "3 - 60a90                                       231       169    110      953   \n",
       "4 - 90a120                                      124        95     53      490   \n",
       "5 - 120a150                                      95        59     31      340   \n",
       "Total                                           450       323    194     1783   \n",
       "\n",
       "regiao                                 Sul  Total  \n",
       "late_category_expandida_noverde_atual              \n",
       "3 - 60a90                              329   1792  \n",
       "4 - 90a120                             174    936  \n",
       "5 - 120a150                            107    632  \n",
       "Total                                  610   3360  "
      ]
     },
     "execution_count": 71,
     "metadata": {},
     "output_type": "execute_result"
    }
   ],
   "source": [
    "flag_regiao = reg.pivot_table(index='late_category_expandida_noverde_atual',\n",
    "                              columns='regiao',\n",
    "                              values='loan_id',\n",
    "                              aggfunc='count',\n",
    "                              margins=True,\n",
    "                              margins_name='Total')\n",
    "flag_regiao"
   ]
  },
  {
   "cell_type": "markdown",
   "metadata": {},
   "source": [
    "Tabela Final"
   ]
  },
  {
   "cell_type": "code",
   "execution_count": 76,
   "metadata": {},
   "outputs": [],
   "source": [
    "faixa_atraso = df_final['late_category_expandida_noverde_atual']\n",
    "total = df_final.groupby(faixa_atraso)['loan_id'].count()\n",
    "acao = df_final.query(\"acao_controle =='acao' & grupo_controle == 1\").groupby(faixa_atraso)['loan_id'].count()\n",
    "controle = df_final.query(\"acao_controle =='controle' & grupo_controle == 1\").groupby(faixa_atraso)['loan_id'].count()\n",
    "protestado = df_final.query(\"flag_protesto == 1 & grupo_controle == 0\").groupby(faixa_atraso)['loan_id'].count()\n",
    "acordovencer = df_final.query(\"grupo_controle == 0 & flag_protesto == 0 & acordo_a_vencer == 1\").groupby(faixa_atraso)['loan_id'].count()\n",
    "trezentos = df_final.query(\"grupo_controle == 0 & flag_protesto == 0 & acordo_a_vencer == 0 & flag_parcela == '=<300'\").groupby(faixa_atraso)['loan_id'].count()"
   ]
  },
  {
   "cell_type": "code",
   "execution_count": 77,
   "metadata": {},
   "outputs": [],
   "source": [
    "disponivel = total - acao - controle - protestado - acordovencer - trezentos"
   ]
  },
  {
   "cell_type": "code",
   "execution_count": 82,
   "metadata": {},
   "outputs": [
    {
     "data": {
      "text/html": [
       "<div>\n",
       "<style scoped>\n",
       "    .dataframe tbody tr th:only-of-type {\n",
       "        vertical-align: middle;\n",
       "    }\n",
       "\n",
       "    .dataframe tbody tr th {\n",
       "        vertical-align: top;\n",
       "    }\n",
       "\n",
       "    .dataframe thead th {\n",
       "        text-align: right;\n",
       "    }\n",
       "</style>\n",
       "<table border=\"1\" class=\"dataframe\">\n",
       "  <thead>\n",
       "    <tr style=\"text-align: right;\">\n",
       "      <th></th>\n",
       "      <th>Total</th>\n",
       "      <th>Acao</th>\n",
       "      <th>Controle</th>\n",
       "      <th>Protesto</th>\n",
       "      <th>Acordo a Vencer</th>\n",
       "      <th>Valor Parcela &lt;=300</th>\n",
       "      <th>Disponivel</th>\n",
       "    </tr>\n",
       "    <tr>\n",
       "      <th>late_category_expandida_noverde_atual</th>\n",
       "      <th></th>\n",
       "      <th></th>\n",
       "      <th></th>\n",
       "      <th></th>\n",
       "      <th></th>\n",
       "      <th></th>\n",
       "      <th></th>\n",
       "    </tr>\n",
       "  </thead>\n",
       "  <tbody>\n",
       "    <tr>\n",
       "      <th>3 - 60a90</th>\n",
       "      <td>8384</td>\n",
       "      <td>396</td>\n",
       "      <td>412</td>\n",
       "      <td>530</td>\n",
       "      <td>178</td>\n",
       "      <td>5076</td>\n",
       "      <td>1792</td>\n",
       "    </tr>\n",
       "    <tr>\n",
       "      <th>4 - 90a120</th>\n",
       "      <td>6719</td>\n",
       "      <td>25</td>\n",
       "      <td>8</td>\n",
       "      <td>1578</td>\n",
       "      <td>77</td>\n",
       "      <td>4095</td>\n",
       "      <td>936</td>\n",
       "    </tr>\n",
       "    <tr>\n",
       "      <th>5 - 120a150</th>\n",
       "      <td>6055</td>\n",
       "      <td>3</td>\n",
       "      <td>1</td>\n",
       "      <td>1742</td>\n",
       "      <td>49</td>\n",
       "      <td>3628</td>\n",
       "      <td>632</td>\n",
       "    </tr>\n",
       "  </tbody>\n",
       "</table>\n",
       "</div>"
      ],
      "text/plain": [
       "                                       Total  Acao  Controle  Protesto  \\\n",
       "late_category_expandida_noverde_atual                                    \n",
       "3 - 60a90                               8384   396       412       530   \n",
       "4 - 90a120                              6719    25         8      1578   \n",
       "5 - 120a150                             6055     3         1      1742   \n",
       "\n",
       "                                       Acordo a Vencer  Valor Parcela <=300  \\\n",
       "late_category_expandida_noverde_atual                                         \n",
       "3 - 60a90                                          178                 5076   \n",
       "4 - 90a120                                          77                 4095   \n",
       "5 - 120a150                                         49                 3628   \n",
       "\n",
       "                                       Disponivel  \n",
       "late_category_expandida_noverde_atual              \n",
       "3 - 60a90                                    1792  \n",
       "4 - 90a120                                    936  \n",
       "5 - 120a150                                   632  "
      ]
     },
     "execution_count": 82,
     "metadata": {},
     "output_type": "execute_result"
    }
   ],
   "source": [
    "df_tabela = pd.DataFrame({\n",
    "    'Total': total,\n",
    "    'Acao': acao,\n",
    "    'Controle': controle,\n",
    "    'Protesto': protestado,\n",
    "    'Acordo a Vencer': acordovencer,\n",
    "    'Valor Parcela <=300': trezentos,\n",
    "    'Disponivel': disponivel\n",
    "})\n",
    "\n",
    "df_tabela = df_tabela.fillna(0)\n",
    "\n",
    "df_tabela"
   ]
  },
  {
   "cell_type": "markdown",
   "metadata": {},
   "source": [
    "Publico selecionado"
   ]
  },
  {
   "cell_type": "code",
   "execution_count": 79,
   "metadata": {},
   "outputs": [],
   "source": [
    "df_publico = df_final.query(\"grupo_controle == 0 & flag_protesto == 0 & acordo_a_vencer == 0 & flag_parcela =='>300'\")"
   ]
  },
  {
   "cell_type": "code",
   "execution_count": 80,
   "metadata": {},
   "outputs": [
    {
     "data": {
      "text/plain": [
       "(3360, 71)"
      ]
     },
     "execution_count": 80,
     "metadata": {},
     "output_type": "execute_result"
    }
   ],
   "source": [
    "df_publico.shape"
   ]
  },
  {
   "cell_type": "code",
   "execution_count": 84,
   "metadata": {},
   "outputs": [
    {
     "name": "stderr",
     "output_type": "stream",
     "text": [
      "C:\\Users\\bagat\\AppData\\Local\\Temp\\ipykernel_14860\\2228877962.py:23: FutureWarning: The behavior of DataFrame concatenation with empty or all-NA entries is deprecated. In a future version, this will no longer exclude empty or all-NA columns when determining the result dtypes. To retain the old behavior, exclude the relevant entries before the concat operation.\n",
      "  df_acao = pd.concat([df_acao, df_publico.loc[indices_acao]])\n",
      "C:\\Users\\bagat\\AppData\\Local\\Temp\\ipykernel_14860\\2228877962.py:24: FutureWarning: The behavior of DataFrame concatenation with empty or all-NA entries is deprecated. In a future version, this will no longer exclude empty or all-NA columns when determining the result dtypes. To retain the old behavior, exclude the relevant entries before the concat operation.\n",
      "  df_controle = pd.concat([df_controle, df_publico.loc[indices_controle]])\n"
     ]
    }
   ],
   "source": [
    "contagem_regioes = df_publico['regiao'].value_counts()\n",
    "\n",
    "df_acao = pd.DataFrame(columns=df_publico.columns)\n",
    "df_controle = pd.DataFrame(columns=df_publico.columns)\n",
    "\n",
    "for regiao, contagem in contagem_regioes.items():\n",
    "    metade = (contagem + 1) // 2\n",
    "    \n",
    "    indices_acao = df_publico[df_publico['regiao'] == regiao].sample(n=metade, replace=False).index\n",
    "    \n",
    "    try:\n",
    "        indices_controle = df_publico[df_publico['regiao'] == regiao].drop(indices_acao).sample(n=metade, replace=False).index\n",
    "    except ValueError:\n",
    "        indices_controle = df_publico[df_publico['regiao'] == regiao].drop(indices_acao).sample(n=contagem - metade, replace=False).index\n",
    "    \n",
    "\n",
    "    df_acao = pd.concat([df_acao, df_publico.loc[indices_acao]])\n",
    "    df_controle = pd.concat([df_controle, df_publico.loc[indices_controle]])\n",
    "\n",
    "assert len(df_acao) == len(df_acao['loan_id'].unique())\n",
    "assert len(df_controle) == len(df_controle['loan_id'].unique())"
   ]
  },
  {
   "cell_type": "code",
   "execution_count": 86,
   "metadata": {},
   "outputs": [
    {
     "data": {
      "text/plain": [
       "(1681, 71)"
      ]
     },
     "execution_count": 86,
     "metadata": {},
     "output_type": "execute_result"
    }
   ],
   "source": [
    "df_acao.shape"
   ]
  },
  {
   "cell_type": "code",
   "execution_count": 88,
   "metadata": {},
   "outputs": [
    {
     "data": {
      "text/plain": [
       "(1679, 71)"
      ]
     },
     "execution_count": 88,
     "metadata": {},
     "output_type": "execute_result"
    }
   ],
   "source": [
    "df_controle.shape"
   ]
  },
  {
   "cell_type": "code",
   "execution_count": 89,
   "metadata": {},
   "outputs": [
    {
     "data": {
      "text/plain": [
       "late_category_expandida_noverde_atual\n",
       "3 - 60a90      905\n",
       "4 - 90a120     466\n",
       "5 - 120a150    310\n",
       "Name: loan_id, dtype: int64"
      ]
     },
     "execution_count": 89,
     "metadata": {},
     "output_type": "execute_result"
    }
   ],
   "source": [
    "df_acao.groupby('late_category_expandida_noverde_atual')['loan_id'].count()"
   ]
  },
  {
   "cell_type": "code",
   "execution_count": 90,
   "metadata": {},
   "outputs": [
    {
     "data": {
      "text/plain": [
       "late_category_expandida_noverde_atual\n",
       "3 - 60a90      887\n",
       "4 - 90a120     470\n",
       "5 - 120a150    322\n",
       "Name: loan_id, dtype: int64"
      ]
     },
     "execution_count": 90,
     "metadata": {},
     "output_type": "execute_result"
    }
   ],
   "source": [
    "df_controle.groupby('late_category_expandida_noverde_atual')['loan_id'].count()"
   ]
  },
  {
   "cell_type": "code",
   "execution_count": 94,
   "metadata": {},
   "outputs": [
    {
     "data": {
      "text/html": [
       "<div>\n",
       "<style scoped>\n",
       "    .dataframe tbody tr th:only-of-type {\n",
       "        vertical-align: middle;\n",
       "    }\n",
       "\n",
       "    .dataframe tbody tr th {\n",
       "        vertical-align: top;\n",
       "    }\n",
       "\n",
       "    .dataframe thead th {\n",
       "        text-align: right;\n",
       "    }\n",
       "</style>\n",
       "<table border=\"1\" class=\"dataframe\">\n",
       "  <thead>\n",
       "    <tr style=\"text-align: right;\">\n",
       "      <th></th>\n",
       "      <th>CPF</th>\n",
       "    </tr>\n",
       "  </thead>\n",
       "  <tbody>\n",
       "    <tr>\n",
       "      <th>50591</th>\n",
       "      <td>'24999713802',</td>\n",
       "    </tr>\n",
       "    <tr>\n",
       "      <th>34279</th>\n",
       "      <td>'31281198803',</td>\n",
       "    </tr>\n",
       "    <tr>\n",
       "      <th>43194</th>\n",
       "      <td>'9077053751',</td>\n",
       "    </tr>\n",
       "  </tbody>\n",
       "</table>\n",
       "</div>"
      ],
      "text/plain": [
       "                  CPF\n",
       "50591  '24999713802',\n",
       "34279  '31281198803',\n",
       "43194   '9077053751',"
      ]
     },
     "execution_count": 94,
     "metadata": {},
     "output_type": "execute_result"
    }
   ],
   "source": [
    "df_cpf = df_acao.copy()\n",
    "df_cpf = df_cpf.loc[:,['CPF']]\n",
    "df_cpf['CPF'] = \"'\" + df_cpf['CPF'].astype(str) + \"',\"\n",
    "df_cpf.head(3)"
   ]
  },
  {
   "cell_type": "code",
   "execution_count": 95,
   "metadata": {},
   "outputs": [],
   "source": [
    "df_cpf.to_excel(f'Clientes disponiveis para protesto {hoje}.xlsx', index=False)"
   ]
  }
 ],
 "metadata": {
  "kernelspec": {
   "display_name": "Python 3",
   "language": "python",
   "name": "python3"
  },
  "language_info": {
   "codemirror_mode": {
    "name": "ipython",
    "version": 3
   },
   "file_extension": ".py",
   "mimetype": "text/x-python",
   "name": "python",
   "nbconvert_exporter": "python",
   "pygments_lexer": "ipython3",
   "version": "3.11.7"
  }
 },
 "nbformat": 4,
 "nbformat_minor": 2
}
